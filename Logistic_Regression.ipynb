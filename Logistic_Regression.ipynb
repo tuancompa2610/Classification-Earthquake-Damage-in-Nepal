{
  "nbformat": 4,
  "nbformat_minor": 0,
  "metadata": {
    "colab": {
      "provenance": [],
      "authorship_tag": "ABX9TyODVlMapDtSKmo+hzGG1ZZo",
      "include_colab_link": true
    },
    "kernelspec": {
      "name": "python3",
      "display_name": "Python 3"
    },
    "language_info": {
      "name": "python"
    }
  },
  "cells": [
    {
      "cell_type": "markdown",
      "metadata": {
        "id": "view-in-github",
        "colab_type": "text"
      },
      "source": [
        "<a href=\"https://colab.research.google.com/github/tuancompa2610/Classification-Earthquake-Damage-in-Nepal/blob/main/Logistic_Regression.ipynb\" target=\"_parent\"><img src=\"https://colab.research.google.com/assets/colab-badge.svg\" alt=\"Open In Colab\"/></a>"
      ]
    },
    {
      "cell_type": "markdown",
      "source": [
        "# 1. Data Preparation\n",
        "\n",
        "\n"
      ],
      "metadata": {
        "id": "QnowSjZklB2r"
      }
    },
    {
      "cell_type": "code",
      "source": [
        "# Import Library\n",
        "!pip install category_encoders\n",
        "\n",
        "import matplotlib.pyplot as plt\n",
        "import numpy as np\n",
        "import pandas as pd\n",
        "import seaborn as sns\n",
        "\n",
        "from category_encoders import OneHotEncoder\n",
        "from sklearn.linear_model import LogisticRegression\n",
        "from sklearn.metrics import accuracy_score\n",
        "from sklearn.model_selection import train_test_split\n",
        "from sklearn.pipeline import Pipeline, make_pipeline\n",
        "from sklearn.utils.validation import check_is_fitted\n",
        "from category_encoders import OrdinalEncoder\n",
        "from sklearn.tree import DecisionTreeClassifier, plot_tree\n"
      ],
      "metadata": {
        "id": "jdkBewaHlF99",
        "colab": {
          "base_uri": "https://localhost:8080/"
        },
        "outputId": "c51d11f0-38bd-4999-aeb8-1fa0ff49f503"
      },
      "execution_count": 1,
      "outputs": [
        {
          "output_type": "stream",
          "name": "stdout",
          "text": [
            "Looking in indexes: https://pypi.org/simple, https://us-python.pkg.dev/colab-wheels/public/simple/\n",
            "Collecting category_encoders\n",
            "  Downloading category_encoders-2.6.0-py2.py3-none-any.whl (81 kB)\n",
            "\u001b[2K     \u001b[90m━━━━━━━━━━━━━━━━━━━━━━━━━━━━━━━━━━━━━━━━\u001b[0m \u001b[32m81.2/81.2 KB\u001b[0m \u001b[31m3.1 MB/s\u001b[0m eta \u001b[36m0:00:00\u001b[0m\n",
            "\u001b[?25hRequirement already satisfied: scipy>=1.0.0 in /usr/local/lib/python3.8/dist-packages (from category_encoders) (1.7.3)\n",
            "Requirement already satisfied: statsmodels>=0.9.0 in /usr/local/lib/python3.8/dist-packages (from category_encoders) (0.12.2)\n",
            "Requirement already satisfied: scikit-learn>=0.20.0 in /usr/local/lib/python3.8/dist-packages (from category_encoders) (1.0.2)\n",
            "Requirement already satisfied: patsy>=0.5.1 in /usr/local/lib/python3.8/dist-packages (from category_encoders) (0.5.3)\n",
            "Requirement already satisfied: pandas>=1.0.5 in /usr/local/lib/python3.8/dist-packages (from category_encoders) (1.3.5)\n",
            "Requirement already satisfied: numpy>=1.14.0 in /usr/local/lib/python3.8/dist-packages (from category_encoders) (1.21.6)\n",
            "Requirement already satisfied: pytz>=2017.3 in /usr/local/lib/python3.8/dist-packages (from pandas>=1.0.5->category_encoders) (2022.7.1)\n",
            "Requirement already satisfied: python-dateutil>=2.7.3 in /usr/local/lib/python3.8/dist-packages (from pandas>=1.0.5->category_encoders) (2.8.2)\n",
            "Requirement already satisfied: six in /usr/local/lib/python3.8/dist-packages (from patsy>=0.5.1->category_encoders) (1.15.0)\n",
            "Requirement already satisfied: joblib>=0.11 in /usr/local/lib/python3.8/dist-packages (from scikit-learn>=0.20.0->category_encoders) (1.2.0)\n",
            "Requirement already satisfied: threadpoolctl>=2.0.0 in /usr/local/lib/python3.8/dist-packages (from scikit-learn>=0.20.0->category_encoders) (3.1.0)\n",
            "Installing collected packages: category_encoders\n",
            "Successfully installed category_encoders-2.6.0\n"
          ]
        }
      ]
    },
    {
      "cell_type": "code",
      "source": [
        "# Load dataset from local\n",
        "from google.colab import files\n",
        "uploaded = files.upload()"
      ],
      "metadata": {
        "colab": {
          "base_uri": "https://localhost:8080/",
          "height": 73
        },
        "id": "4jpUlPdDlmO3",
        "outputId": "4494fe75-d154-4bc8-9bae-7bc536405742"
      },
      "execution_count": 2,
      "outputs": [
        {
          "output_type": "display_data",
          "data": {
            "text/plain": [
              "<IPython.core.display.HTML object>"
            ],
            "text/html": [
              "\n",
              "     <input type=\"file\" id=\"files-a62aee06-e6ef-4670-9ee6-72b0d6d637d3\" name=\"files[]\" multiple disabled\n",
              "        style=\"border:none\" />\n",
              "     <output id=\"result-a62aee06-e6ef-4670-9ee6-72b0d6d637d3\">\n",
              "      Upload widget is only available when the cell has been executed in the\n",
              "      current browser session. Please rerun this cell to enable.\n",
              "      </output>\n",
              "      <script>// Copyright 2017 Google LLC\n",
              "//\n",
              "// Licensed under the Apache License, Version 2.0 (the \"License\");\n",
              "// you may not use this file except in compliance with the License.\n",
              "// You may obtain a copy of the License at\n",
              "//\n",
              "//      http://www.apache.org/licenses/LICENSE-2.0\n",
              "//\n",
              "// Unless required by applicable law or agreed to in writing, software\n",
              "// distributed under the License is distributed on an \"AS IS\" BASIS,\n",
              "// WITHOUT WARRANTIES OR CONDITIONS OF ANY KIND, either express or implied.\n",
              "// See the License for the specific language governing permissions and\n",
              "// limitations under the License.\n",
              "\n",
              "/**\n",
              " * @fileoverview Helpers for google.colab Python module.\n",
              " */\n",
              "(function(scope) {\n",
              "function span(text, styleAttributes = {}) {\n",
              "  const element = document.createElement('span');\n",
              "  element.textContent = text;\n",
              "  for (const key of Object.keys(styleAttributes)) {\n",
              "    element.style[key] = styleAttributes[key];\n",
              "  }\n",
              "  return element;\n",
              "}\n",
              "\n",
              "// Max number of bytes which will be uploaded at a time.\n",
              "const MAX_PAYLOAD_SIZE = 100 * 1024;\n",
              "\n",
              "function _uploadFiles(inputId, outputId) {\n",
              "  const steps = uploadFilesStep(inputId, outputId);\n",
              "  const outputElement = document.getElementById(outputId);\n",
              "  // Cache steps on the outputElement to make it available for the next call\n",
              "  // to uploadFilesContinue from Python.\n",
              "  outputElement.steps = steps;\n",
              "\n",
              "  return _uploadFilesContinue(outputId);\n",
              "}\n",
              "\n",
              "// This is roughly an async generator (not supported in the browser yet),\n",
              "// where there are multiple asynchronous steps and the Python side is going\n",
              "// to poll for completion of each step.\n",
              "// This uses a Promise to block the python side on completion of each step,\n",
              "// then passes the result of the previous step as the input to the next step.\n",
              "function _uploadFilesContinue(outputId) {\n",
              "  const outputElement = document.getElementById(outputId);\n",
              "  const steps = outputElement.steps;\n",
              "\n",
              "  const next = steps.next(outputElement.lastPromiseValue);\n",
              "  return Promise.resolve(next.value.promise).then((value) => {\n",
              "    // Cache the last promise value to make it available to the next\n",
              "    // step of the generator.\n",
              "    outputElement.lastPromiseValue = value;\n",
              "    return next.value.response;\n",
              "  });\n",
              "}\n",
              "\n",
              "/**\n",
              " * Generator function which is called between each async step of the upload\n",
              " * process.\n",
              " * @param {string} inputId Element ID of the input file picker element.\n",
              " * @param {string} outputId Element ID of the output display.\n",
              " * @return {!Iterable<!Object>} Iterable of next steps.\n",
              " */\n",
              "function* uploadFilesStep(inputId, outputId) {\n",
              "  const inputElement = document.getElementById(inputId);\n",
              "  inputElement.disabled = false;\n",
              "\n",
              "  const outputElement = document.getElementById(outputId);\n",
              "  outputElement.innerHTML = '';\n",
              "\n",
              "  const pickedPromise = new Promise((resolve) => {\n",
              "    inputElement.addEventListener('change', (e) => {\n",
              "      resolve(e.target.files);\n",
              "    });\n",
              "  });\n",
              "\n",
              "  const cancel = document.createElement('button');\n",
              "  inputElement.parentElement.appendChild(cancel);\n",
              "  cancel.textContent = 'Cancel upload';\n",
              "  const cancelPromise = new Promise((resolve) => {\n",
              "    cancel.onclick = () => {\n",
              "      resolve(null);\n",
              "    };\n",
              "  });\n",
              "\n",
              "  // Wait for the user to pick the files.\n",
              "  const files = yield {\n",
              "    promise: Promise.race([pickedPromise, cancelPromise]),\n",
              "    response: {\n",
              "      action: 'starting',\n",
              "    }\n",
              "  };\n",
              "\n",
              "  cancel.remove();\n",
              "\n",
              "  // Disable the input element since further picks are not allowed.\n",
              "  inputElement.disabled = true;\n",
              "\n",
              "  if (!files) {\n",
              "    return {\n",
              "      response: {\n",
              "        action: 'complete',\n",
              "      }\n",
              "    };\n",
              "  }\n",
              "\n",
              "  for (const file of files) {\n",
              "    const li = document.createElement('li');\n",
              "    li.append(span(file.name, {fontWeight: 'bold'}));\n",
              "    li.append(span(\n",
              "        `(${file.type || 'n/a'}) - ${file.size} bytes, ` +\n",
              "        `last modified: ${\n",
              "            file.lastModifiedDate ? file.lastModifiedDate.toLocaleDateString() :\n",
              "                                    'n/a'} - `));\n",
              "    const percent = span('0% done');\n",
              "    li.appendChild(percent);\n",
              "\n",
              "    outputElement.appendChild(li);\n",
              "\n",
              "    const fileDataPromise = new Promise((resolve) => {\n",
              "      const reader = new FileReader();\n",
              "      reader.onload = (e) => {\n",
              "        resolve(e.target.result);\n",
              "      };\n",
              "      reader.readAsArrayBuffer(file);\n",
              "    });\n",
              "    // Wait for the data to be ready.\n",
              "    let fileData = yield {\n",
              "      promise: fileDataPromise,\n",
              "      response: {\n",
              "        action: 'continue',\n",
              "      }\n",
              "    };\n",
              "\n",
              "    // Use a chunked sending to avoid message size limits. See b/62115660.\n",
              "    let position = 0;\n",
              "    do {\n",
              "      const length = Math.min(fileData.byteLength - position, MAX_PAYLOAD_SIZE);\n",
              "      const chunk = new Uint8Array(fileData, position, length);\n",
              "      position += length;\n",
              "\n",
              "      const base64 = btoa(String.fromCharCode.apply(null, chunk));\n",
              "      yield {\n",
              "        response: {\n",
              "          action: 'append',\n",
              "          file: file.name,\n",
              "          data: base64,\n",
              "        },\n",
              "      };\n",
              "\n",
              "      let percentDone = fileData.byteLength === 0 ?\n",
              "          100 :\n",
              "          Math.round((position / fileData.byteLength) * 100);\n",
              "      percent.textContent = `${percentDone}% done`;\n",
              "\n",
              "    } while (position < fileData.byteLength);\n",
              "  }\n",
              "\n",
              "  // All done.\n",
              "  yield {\n",
              "    response: {\n",
              "      action: 'complete',\n",
              "    }\n",
              "  };\n",
              "}\n",
              "\n",
              "scope.google = scope.google || {};\n",
              "scope.google.colab = scope.google.colab || {};\n",
              "scope.google.colab._files = {\n",
              "  _uploadFiles,\n",
              "  _uploadFilesContinue,\n",
              "};\n",
              "})(self);\n",
              "</script> "
            ]
          },
          "metadata": {}
        },
        {
          "output_type": "stream",
          "name": "stdout",
          "text": [
            "Saving nepal_earthquake.csv to nepal_earthquake.csv\n"
          ]
        }
      ]
    },
    {
      "cell_type": "code",
      "source": [
        "# Load data. Since our csv file has Unamed columns we should add parameter \"index_col\" in read_csv function\n",
        "df = pd.read_csv(\"/content/nepal_earthquake.csv\", index_col = 0)\n",
        "df.head()"
      ],
      "metadata": {
        "colab": {
          "base_uri": "https://localhost:8080/",
          "height": 357
        },
        "id": "nHHmytJnmjHT",
        "outputId": "cf327651-40fc-4ff8-ff28-4fc557c7f2be"
      },
      "execution_count": 3,
      "outputs": [
        {
          "output_type": "execute_result",
          "data": {
            "text/plain": [
              "     b_id  building_id  count_floors_pre_eq  count_floors_post_eq  \\\n",
              "1  164002       164002                    3                     3   \n",
              "2  164081       164081                    2                     2   \n",
              "3  164089       164089                    3                     3   \n",
              "4  164098       164098                    2                     2   \n",
              "5  164103       164103                    2                     2   \n",
              "\n",
              "   age_building  plinth_area_sq_ft  height_ft_pre_eq  height_ft_post_eq  \\\n",
              "1            20                560                18                 18   \n",
              "2            21                200                12                 12   \n",
              "3            18                315                20                 20   \n",
              "4            45                290                13                 13   \n",
              "5            21                230                13                 13   \n",
              "\n",
              "  land_surface_condition         foundation_type                 roof_type  \\\n",
              "1                   Flat  Mud mortar-Stone/Brick  Bamboo/Timber-Light roof   \n",
              "2                   Flat  Mud mortar-Stone/Brick  Bamboo/Timber-Light roof   \n",
              "3                   Flat  Mud mortar-Stone/Brick  Bamboo/Timber-Light roof   \n",
              "4                   Flat  Mud mortar-Stone/Brick  Bamboo/Timber-Light roof   \n",
              "5                   Flat  Mud mortar-Stone/Brick  Bamboo/Timber-Light roof   \n",
              "\n",
              "  ground_floor_type   other_floor_type      position plan_configuration  \\\n",
              "1               Mud  TImber/Bamboo-Mud  Not attached        Rectangular   \n",
              "2               Mud  TImber/Bamboo-Mud  Not attached        Rectangular   \n",
              "3               Mud  TImber/Bamboo-Mud  Not attached        Rectangular   \n",
              "4               Mud  TImber/Bamboo-Mud  Not attached        Rectangular   \n",
              "5               Mud  TImber/Bamboo-Mud  Not attached        Rectangular   \n",
              "\n",
              "           condition_post_eq     superstructure damage_grade  \n",
              "1  Damaged-Repaired and used  Stone, mud mortar      Grade 2  \n",
              "2       Damaged-Used in risk  Stone, mud mortar      Grade 2  \n",
              "3       Damaged-Used in risk  Stone, mud mortar      Grade 2  \n",
              "4       Damaged-Used in risk  Stone, mud mortar      Grade 3  \n",
              "5       Damaged-Used in risk  Stone, mud mortar      Grade 3  "
            ],
            "text/html": [
              "\n",
              "  <div id=\"df-0617c559-0def-4c53-931a-03fefa6ed575\">\n",
              "    <div class=\"colab-df-container\">\n",
              "      <div>\n",
              "<style scoped>\n",
              "    .dataframe tbody tr th:only-of-type {\n",
              "        vertical-align: middle;\n",
              "    }\n",
              "\n",
              "    .dataframe tbody tr th {\n",
              "        vertical-align: top;\n",
              "    }\n",
              "\n",
              "    .dataframe thead th {\n",
              "        text-align: right;\n",
              "    }\n",
              "</style>\n",
              "<table border=\"1\" class=\"dataframe\">\n",
              "  <thead>\n",
              "    <tr style=\"text-align: right;\">\n",
              "      <th></th>\n",
              "      <th>b_id</th>\n",
              "      <th>building_id</th>\n",
              "      <th>count_floors_pre_eq</th>\n",
              "      <th>count_floors_post_eq</th>\n",
              "      <th>age_building</th>\n",
              "      <th>plinth_area_sq_ft</th>\n",
              "      <th>height_ft_pre_eq</th>\n",
              "      <th>height_ft_post_eq</th>\n",
              "      <th>land_surface_condition</th>\n",
              "      <th>foundation_type</th>\n",
              "      <th>roof_type</th>\n",
              "      <th>ground_floor_type</th>\n",
              "      <th>other_floor_type</th>\n",
              "      <th>position</th>\n",
              "      <th>plan_configuration</th>\n",
              "      <th>condition_post_eq</th>\n",
              "      <th>superstructure</th>\n",
              "      <th>damage_grade</th>\n",
              "    </tr>\n",
              "  </thead>\n",
              "  <tbody>\n",
              "    <tr>\n",
              "      <th>1</th>\n",
              "      <td>164002</td>\n",
              "      <td>164002</td>\n",
              "      <td>3</td>\n",
              "      <td>3</td>\n",
              "      <td>20</td>\n",
              "      <td>560</td>\n",
              "      <td>18</td>\n",
              "      <td>18</td>\n",
              "      <td>Flat</td>\n",
              "      <td>Mud mortar-Stone/Brick</td>\n",
              "      <td>Bamboo/Timber-Light roof</td>\n",
              "      <td>Mud</td>\n",
              "      <td>TImber/Bamboo-Mud</td>\n",
              "      <td>Not attached</td>\n",
              "      <td>Rectangular</td>\n",
              "      <td>Damaged-Repaired and used</td>\n",
              "      <td>Stone, mud mortar</td>\n",
              "      <td>Grade 2</td>\n",
              "    </tr>\n",
              "    <tr>\n",
              "      <th>2</th>\n",
              "      <td>164081</td>\n",
              "      <td>164081</td>\n",
              "      <td>2</td>\n",
              "      <td>2</td>\n",
              "      <td>21</td>\n",
              "      <td>200</td>\n",
              "      <td>12</td>\n",
              "      <td>12</td>\n",
              "      <td>Flat</td>\n",
              "      <td>Mud mortar-Stone/Brick</td>\n",
              "      <td>Bamboo/Timber-Light roof</td>\n",
              "      <td>Mud</td>\n",
              "      <td>TImber/Bamboo-Mud</td>\n",
              "      <td>Not attached</td>\n",
              "      <td>Rectangular</td>\n",
              "      <td>Damaged-Used in risk</td>\n",
              "      <td>Stone, mud mortar</td>\n",
              "      <td>Grade 2</td>\n",
              "    </tr>\n",
              "    <tr>\n",
              "      <th>3</th>\n",
              "      <td>164089</td>\n",
              "      <td>164089</td>\n",
              "      <td>3</td>\n",
              "      <td>3</td>\n",
              "      <td>18</td>\n",
              "      <td>315</td>\n",
              "      <td>20</td>\n",
              "      <td>20</td>\n",
              "      <td>Flat</td>\n",
              "      <td>Mud mortar-Stone/Brick</td>\n",
              "      <td>Bamboo/Timber-Light roof</td>\n",
              "      <td>Mud</td>\n",
              "      <td>TImber/Bamboo-Mud</td>\n",
              "      <td>Not attached</td>\n",
              "      <td>Rectangular</td>\n",
              "      <td>Damaged-Used in risk</td>\n",
              "      <td>Stone, mud mortar</td>\n",
              "      <td>Grade 2</td>\n",
              "    </tr>\n",
              "    <tr>\n",
              "      <th>4</th>\n",
              "      <td>164098</td>\n",
              "      <td>164098</td>\n",
              "      <td>2</td>\n",
              "      <td>2</td>\n",
              "      <td>45</td>\n",
              "      <td>290</td>\n",
              "      <td>13</td>\n",
              "      <td>13</td>\n",
              "      <td>Flat</td>\n",
              "      <td>Mud mortar-Stone/Brick</td>\n",
              "      <td>Bamboo/Timber-Light roof</td>\n",
              "      <td>Mud</td>\n",
              "      <td>TImber/Bamboo-Mud</td>\n",
              "      <td>Not attached</td>\n",
              "      <td>Rectangular</td>\n",
              "      <td>Damaged-Used in risk</td>\n",
              "      <td>Stone, mud mortar</td>\n",
              "      <td>Grade 3</td>\n",
              "    </tr>\n",
              "    <tr>\n",
              "      <th>5</th>\n",
              "      <td>164103</td>\n",
              "      <td>164103</td>\n",
              "      <td>2</td>\n",
              "      <td>2</td>\n",
              "      <td>21</td>\n",
              "      <td>230</td>\n",
              "      <td>13</td>\n",
              "      <td>13</td>\n",
              "      <td>Flat</td>\n",
              "      <td>Mud mortar-Stone/Brick</td>\n",
              "      <td>Bamboo/Timber-Light roof</td>\n",
              "      <td>Mud</td>\n",
              "      <td>TImber/Bamboo-Mud</td>\n",
              "      <td>Not attached</td>\n",
              "      <td>Rectangular</td>\n",
              "      <td>Damaged-Used in risk</td>\n",
              "      <td>Stone, mud mortar</td>\n",
              "      <td>Grade 3</td>\n",
              "    </tr>\n",
              "  </tbody>\n",
              "</table>\n",
              "</div>\n",
              "      <button class=\"colab-df-convert\" onclick=\"convertToInteractive('df-0617c559-0def-4c53-931a-03fefa6ed575')\"\n",
              "              title=\"Convert this dataframe to an interactive table.\"\n",
              "              style=\"display:none;\">\n",
              "        \n",
              "  <svg xmlns=\"http://www.w3.org/2000/svg\" height=\"24px\"viewBox=\"0 0 24 24\"\n",
              "       width=\"24px\">\n",
              "    <path d=\"M0 0h24v24H0V0z\" fill=\"none\"/>\n",
              "    <path d=\"M18.56 5.44l.94 2.06.94-2.06 2.06-.94-2.06-.94-.94-2.06-.94 2.06-2.06.94zm-11 1L8.5 8.5l.94-2.06 2.06-.94-2.06-.94L8.5 2.5l-.94 2.06-2.06.94zm10 10l.94 2.06.94-2.06 2.06-.94-2.06-.94-.94-2.06-.94 2.06-2.06.94z\"/><path d=\"M17.41 7.96l-1.37-1.37c-.4-.4-.92-.59-1.43-.59-.52 0-1.04.2-1.43.59L10.3 9.45l-7.72 7.72c-.78.78-.78 2.05 0 2.83L4 21.41c.39.39.9.59 1.41.59.51 0 1.02-.2 1.41-.59l7.78-7.78 2.81-2.81c.8-.78.8-2.07 0-2.86zM5.41 20L4 18.59l7.72-7.72 1.47 1.35L5.41 20z\"/>\n",
              "  </svg>\n",
              "      </button>\n",
              "      \n",
              "  <style>\n",
              "    .colab-df-container {\n",
              "      display:flex;\n",
              "      flex-wrap:wrap;\n",
              "      gap: 12px;\n",
              "    }\n",
              "\n",
              "    .colab-df-convert {\n",
              "      background-color: #E8F0FE;\n",
              "      border: none;\n",
              "      border-radius: 50%;\n",
              "      cursor: pointer;\n",
              "      display: none;\n",
              "      fill: #1967D2;\n",
              "      height: 32px;\n",
              "      padding: 0 0 0 0;\n",
              "      width: 32px;\n",
              "    }\n",
              "\n",
              "    .colab-df-convert:hover {\n",
              "      background-color: #E2EBFA;\n",
              "      box-shadow: 0px 1px 2px rgba(60, 64, 67, 0.3), 0px 1px 3px 1px rgba(60, 64, 67, 0.15);\n",
              "      fill: #174EA6;\n",
              "    }\n",
              "\n",
              "    [theme=dark] .colab-df-convert {\n",
              "      background-color: #3B4455;\n",
              "      fill: #D2E3FC;\n",
              "    }\n",
              "\n",
              "    [theme=dark] .colab-df-convert:hover {\n",
              "      background-color: #434B5C;\n",
              "      box-shadow: 0px 1px 3px 1px rgba(0, 0, 0, 0.15);\n",
              "      filter: drop-shadow(0px 1px 2px rgba(0, 0, 0, 0.3));\n",
              "      fill: #FFFFFF;\n",
              "    }\n",
              "  </style>\n",
              "\n",
              "      <script>\n",
              "        const buttonEl =\n",
              "          document.querySelector('#df-0617c559-0def-4c53-931a-03fefa6ed575 button.colab-df-convert');\n",
              "        buttonEl.style.display =\n",
              "          google.colab.kernel.accessAllowed ? 'block' : 'none';\n",
              "\n",
              "        async function convertToInteractive(key) {\n",
              "          const element = document.querySelector('#df-0617c559-0def-4c53-931a-03fefa6ed575');\n",
              "          const dataTable =\n",
              "            await google.colab.kernel.invokeFunction('convertToInteractive',\n",
              "                                                     [key], {});\n",
              "          if (!dataTable) return;\n",
              "\n",
              "          const docLinkHtml = 'Like what you see? Visit the ' +\n",
              "            '<a target=\"_blank\" href=https://colab.research.google.com/notebooks/data_table.ipynb>data table notebook</a>'\n",
              "            + ' to learn more about interactive tables.';\n",
              "          element.innerHTML = '';\n",
              "          dataTable['output_type'] = 'display_data';\n",
              "          await google.colab.output.renderOutput(dataTable, element);\n",
              "          const docLink = document.createElement('div');\n",
              "          docLink.innerHTML = docLinkHtml;\n",
              "          element.appendChild(docLink);\n",
              "        }\n",
              "      </script>\n",
              "    </div>\n",
              "  </div>\n",
              "  "
            ]
          },
          "metadata": {},
          "execution_count": 3
        }
      ]
    },
    {
      "cell_type": "code",
      "source": [
        "# Get some information about the dataset\n",
        "df.info()"
      ],
      "metadata": {
        "colab": {
          "base_uri": "https://localhost:8080/"
        },
        "id": "RXjl7HRbmmaQ",
        "outputId": "b8df1d11-d72d-4c26-892d-aa13fe80349b"
      },
      "execution_count": 4,
      "outputs": [
        {
          "output_type": "stream",
          "name": "stdout",
          "text": [
            "<class 'pandas.core.frame.DataFrame'>\n",
            "Int64Index: 70836 entries, 1 to 70836\n",
            "Data columns (total 18 columns):\n",
            " #   Column                  Non-Null Count  Dtype \n",
            "---  ------                  --------------  ----- \n",
            " 0   b_id                    70836 non-null  int64 \n",
            " 1   building_id             70836 non-null  int64 \n",
            " 2   count_floors_pre_eq     70836 non-null  int64 \n",
            " 3   count_floors_post_eq    70836 non-null  int64 \n",
            " 4   age_building            70836 non-null  int64 \n",
            " 5   plinth_area_sq_ft       70836 non-null  int64 \n",
            " 6   height_ft_pre_eq        70836 non-null  int64 \n",
            " 7   height_ft_post_eq       70836 non-null  int64 \n",
            " 8   land_surface_condition  70836 non-null  object\n",
            " 9   foundation_type         70836 non-null  object\n",
            " 10  roof_type               70836 non-null  object\n",
            " 11  ground_floor_type       70836 non-null  object\n",
            " 12  other_floor_type        70836 non-null  object\n",
            " 13  position                70836 non-null  object\n",
            " 14  plan_configuration      70836 non-null  object\n",
            " 15  condition_post_eq       70836 non-null  object\n",
            " 16  superstructure          70836 non-null  object\n",
            " 17  damage_grade            70836 non-null  object\n",
            "dtypes: int64(8), object(10)\n",
            "memory usage: 10.3+ MB\n"
          ]
        }
      ]
    },
    {
      "cell_type": "code",
      "source": [
        "df[\"damage_grade\"].value_counts().sort_values()"
      ],
      "metadata": {
        "colab": {
          "base_uri": "https://localhost:8080/"
        },
        "id": "7CXdAF9GmnXW",
        "outputId": "9d3d8334-88e5-470b-e789-d603d9150faa"
      },
      "execution_count": 5,
      "outputs": [
        {
          "output_type": "execute_result",
          "data": {
            "text/plain": [
              "Grade 1     3570\n",
              "Grade 2     7650\n",
              "Grade 3    14097\n",
              "Grade 4    20650\n",
              "Grade 5    24869\n",
              "Name: damage_grade, dtype: int64"
            ]
          },
          "metadata": {},
          "execution_count": 5
        }
      ]
    },
    {
      "cell_type": "markdown",
      "source": [
        "Creates a new target column `\"severe_damage\"`. For buildings where the `\"damage_grade\"` is Grade 4 or above, `\"severe_damage\"` should be `1`. For all other buildings, `\"severe_damage\"` should be `0`."
      ],
      "metadata": {
        "id": "QnyP1EIyHeIZ"
      }
    },
    {
      "cell_type": "code",
      "source": [
        "df[\"damage_grade\"] = df[\"damage_grade\"].str[-1].astype(int)\n",
        "df[\"severe_damage\"] = (df[\"damage_grade\"] > 3).astype(int)"
      ],
      "metadata": {
        "id": "Me4TIAHomrCh"
      },
      "execution_count": 6,
      "outputs": []
    },
    {
      "cell_type": "code",
      "source": [
        "# Set \"building_id\" as index and drop those unnecessary columns \n",
        "df.drop(columns = [\"b_id\", \"damage_grade\"], inplace = True)\n",
        "df = df.set_index(\"building_id\")\n",
        "df.head()"
      ],
      "metadata": {
        "colab": {
          "base_uri": "https://localhost:8080/",
          "height": 388
        },
        "id": "HGOoigoYMIFe",
        "outputId": "2291db5c-0701-4da0-fe11-058993c1b599"
      },
      "execution_count": 7,
      "outputs": [
        {
          "output_type": "execute_result",
          "data": {
            "text/plain": [
              "             count_floors_pre_eq  count_floors_post_eq  age_building  \\\n",
              "building_id                                                            \n",
              "164002                         3                     3            20   \n",
              "164081                         2                     2            21   \n",
              "164089                         3                     3            18   \n",
              "164098                         2                     2            45   \n",
              "164103                         2                     2            21   \n",
              "\n",
              "             plinth_area_sq_ft  height_ft_pre_eq  height_ft_post_eq  \\\n",
              "building_id                                                           \n",
              "164002                     560                18                 18   \n",
              "164081                     200                12                 12   \n",
              "164089                     315                20                 20   \n",
              "164098                     290                13                 13   \n",
              "164103                     230                13                 13   \n",
              "\n",
              "            land_surface_condition         foundation_type  \\\n",
              "building_id                                                  \n",
              "164002                        Flat  Mud mortar-Stone/Brick   \n",
              "164081                        Flat  Mud mortar-Stone/Brick   \n",
              "164089                        Flat  Mud mortar-Stone/Brick   \n",
              "164098                        Flat  Mud mortar-Stone/Brick   \n",
              "164103                        Flat  Mud mortar-Stone/Brick   \n",
              "\n",
              "                            roof_type ground_floor_type   other_floor_type  \\\n",
              "building_id                                                                  \n",
              "164002       Bamboo/Timber-Light roof               Mud  TImber/Bamboo-Mud   \n",
              "164081       Bamboo/Timber-Light roof               Mud  TImber/Bamboo-Mud   \n",
              "164089       Bamboo/Timber-Light roof               Mud  TImber/Bamboo-Mud   \n",
              "164098       Bamboo/Timber-Light roof               Mud  TImber/Bamboo-Mud   \n",
              "164103       Bamboo/Timber-Light roof               Mud  TImber/Bamboo-Mud   \n",
              "\n",
              "                 position plan_configuration          condition_post_eq  \\\n",
              "building_id                                                               \n",
              "164002       Not attached        Rectangular  Damaged-Repaired and used   \n",
              "164081       Not attached        Rectangular       Damaged-Used in risk   \n",
              "164089       Not attached        Rectangular       Damaged-Used in risk   \n",
              "164098       Not attached        Rectangular       Damaged-Used in risk   \n",
              "164103       Not attached        Rectangular       Damaged-Used in risk   \n",
              "\n",
              "                superstructure  severe_damage  \n",
              "building_id                                    \n",
              "164002       Stone, mud mortar              0  \n",
              "164081       Stone, mud mortar              0  \n",
              "164089       Stone, mud mortar              0  \n",
              "164098       Stone, mud mortar              0  \n",
              "164103       Stone, mud mortar              0  "
            ],
            "text/html": [
              "\n",
              "  <div id=\"df-ed9cae4c-7e9d-43ac-bded-1352dadddf7c\">\n",
              "    <div class=\"colab-df-container\">\n",
              "      <div>\n",
              "<style scoped>\n",
              "    .dataframe tbody tr th:only-of-type {\n",
              "        vertical-align: middle;\n",
              "    }\n",
              "\n",
              "    .dataframe tbody tr th {\n",
              "        vertical-align: top;\n",
              "    }\n",
              "\n",
              "    .dataframe thead th {\n",
              "        text-align: right;\n",
              "    }\n",
              "</style>\n",
              "<table border=\"1\" class=\"dataframe\">\n",
              "  <thead>\n",
              "    <tr style=\"text-align: right;\">\n",
              "      <th></th>\n",
              "      <th>count_floors_pre_eq</th>\n",
              "      <th>count_floors_post_eq</th>\n",
              "      <th>age_building</th>\n",
              "      <th>plinth_area_sq_ft</th>\n",
              "      <th>height_ft_pre_eq</th>\n",
              "      <th>height_ft_post_eq</th>\n",
              "      <th>land_surface_condition</th>\n",
              "      <th>foundation_type</th>\n",
              "      <th>roof_type</th>\n",
              "      <th>ground_floor_type</th>\n",
              "      <th>other_floor_type</th>\n",
              "      <th>position</th>\n",
              "      <th>plan_configuration</th>\n",
              "      <th>condition_post_eq</th>\n",
              "      <th>superstructure</th>\n",
              "      <th>severe_damage</th>\n",
              "    </tr>\n",
              "    <tr>\n",
              "      <th>building_id</th>\n",
              "      <th></th>\n",
              "      <th></th>\n",
              "      <th></th>\n",
              "      <th></th>\n",
              "      <th></th>\n",
              "      <th></th>\n",
              "      <th></th>\n",
              "      <th></th>\n",
              "      <th></th>\n",
              "      <th></th>\n",
              "      <th></th>\n",
              "      <th></th>\n",
              "      <th></th>\n",
              "      <th></th>\n",
              "      <th></th>\n",
              "      <th></th>\n",
              "    </tr>\n",
              "  </thead>\n",
              "  <tbody>\n",
              "    <tr>\n",
              "      <th>164002</th>\n",
              "      <td>3</td>\n",
              "      <td>3</td>\n",
              "      <td>20</td>\n",
              "      <td>560</td>\n",
              "      <td>18</td>\n",
              "      <td>18</td>\n",
              "      <td>Flat</td>\n",
              "      <td>Mud mortar-Stone/Brick</td>\n",
              "      <td>Bamboo/Timber-Light roof</td>\n",
              "      <td>Mud</td>\n",
              "      <td>TImber/Bamboo-Mud</td>\n",
              "      <td>Not attached</td>\n",
              "      <td>Rectangular</td>\n",
              "      <td>Damaged-Repaired and used</td>\n",
              "      <td>Stone, mud mortar</td>\n",
              "      <td>0</td>\n",
              "    </tr>\n",
              "    <tr>\n",
              "      <th>164081</th>\n",
              "      <td>2</td>\n",
              "      <td>2</td>\n",
              "      <td>21</td>\n",
              "      <td>200</td>\n",
              "      <td>12</td>\n",
              "      <td>12</td>\n",
              "      <td>Flat</td>\n",
              "      <td>Mud mortar-Stone/Brick</td>\n",
              "      <td>Bamboo/Timber-Light roof</td>\n",
              "      <td>Mud</td>\n",
              "      <td>TImber/Bamboo-Mud</td>\n",
              "      <td>Not attached</td>\n",
              "      <td>Rectangular</td>\n",
              "      <td>Damaged-Used in risk</td>\n",
              "      <td>Stone, mud mortar</td>\n",
              "      <td>0</td>\n",
              "    </tr>\n",
              "    <tr>\n",
              "      <th>164089</th>\n",
              "      <td>3</td>\n",
              "      <td>3</td>\n",
              "      <td>18</td>\n",
              "      <td>315</td>\n",
              "      <td>20</td>\n",
              "      <td>20</td>\n",
              "      <td>Flat</td>\n",
              "      <td>Mud mortar-Stone/Brick</td>\n",
              "      <td>Bamboo/Timber-Light roof</td>\n",
              "      <td>Mud</td>\n",
              "      <td>TImber/Bamboo-Mud</td>\n",
              "      <td>Not attached</td>\n",
              "      <td>Rectangular</td>\n",
              "      <td>Damaged-Used in risk</td>\n",
              "      <td>Stone, mud mortar</td>\n",
              "      <td>0</td>\n",
              "    </tr>\n",
              "    <tr>\n",
              "      <th>164098</th>\n",
              "      <td>2</td>\n",
              "      <td>2</td>\n",
              "      <td>45</td>\n",
              "      <td>290</td>\n",
              "      <td>13</td>\n",
              "      <td>13</td>\n",
              "      <td>Flat</td>\n",
              "      <td>Mud mortar-Stone/Brick</td>\n",
              "      <td>Bamboo/Timber-Light roof</td>\n",
              "      <td>Mud</td>\n",
              "      <td>TImber/Bamboo-Mud</td>\n",
              "      <td>Not attached</td>\n",
              "      <td>Rectangular</td>\n",
              "      <td>Damaged-Used in risk</td>\n",
              "      <td>Stone, mud mortar</td>\n",
              "      <td>0</td>\n",
              "    </tr>\n",
              "    <tr>\n",
              "      <th>164103</th>\n",
              "      <td>2</td>\n",
              "      <td>2</td>\n",
              "      <td>21</td>\n",
              "      <td>230</td>\n",
              "      <td>13</td>\n",
              "      <td>13</td>\n",
              "      <td>Flat</td>\n",
              "      <td>Mud mortar-Stone/Brick</td>\n",
              "      <td>Bamboo/Timber-Light roof</td>\n",
              "      <td>Mud</td>\n",
              "      <td>TImber/Bamboo-Mud</td>\n",
              "      <td>Not attached</td>\n",
              "      <td>Rectangular</td>\n",
              "      <td>Damaged-Used in risk</td>\n",
              "      <td>Stone, mud mortar</td>\n",
              "      <td>0</td>\n",
              "    </tr>\n",
              "  </tbody>\n",
              "</table>\n",
              "</div>\n",
              "      <button class=\"colab-df-convert\" onclick=\"convertToInteractive('df-ed9cae4c-7e9d-43ac-bded-1352dadddf7c')\"\n",
              "              title=\"Convert this dataframe to an interactive table.\"\n",
              "              style=\"display:none;\">\n",
              "        \n",
              "  <svg xmlns=\"http://www.w3.org/2000/svg\" height=\"24px\"viewBox=\"0 0 24 24\"\n",
              "       width=\"24px\">\n",
              "    <path d=\"M0 0h24v24H0V0z\" fill=\"none\"/>\n",
              "    <path d=\"M18.56 5.44l.94 2.06.94-2.06 2.06-.94-2.06-.94-.94-2.06-.94 2.06-2.06.94zm-11 1L8.5 8.5l.94-2.06 2.06-.94-2.06-.94L8.5 2.5l-.94 2.06-2.06.94zm10 10l.94 2.06.94-2.06 2.06-.94-2.06-.94-.94-2.06-.94 2.06-2.06.94z\"/><path d=\"M17.41 7.96l-1.37-1.37c-.4-.4-.92-.59-1.43-.59-.52 0-1.04.2-1.43.59L10.3 9.45l-7.72 7.72c-.78.78-.78 2.05 0 2.83L4 21.41c.39.39.9.59 1.41.59.51 0 1.02-.2 1.41-.59l7.78-7.78 2.81-2.81c.8-.78.8-2.07 0-2.86zM5.41 20L4 18.59l7.72-7.72 1.47 1.35L5.41 20z\"/>\n",
              "  </svg>\n",
              "      </button>\n",
              "      \n",
              "  <style>\n",
              "    .colab-df-container {\n",
              "      display:flex;\n",
              "      flex-wrap:wrap;\n",
              "      gap: 12px;\n",
              "    }\n",
              "\n",
              "    .colab-df-convert {\n",
              "      background-color: #E8F0FE;\n",
              "      border: none;\n",
              "      border-radius: 50%;\n",
              "      cursor: pointer;\n",
              "      display: none;\n",
              "      fill: #1967D2;\n",
              "      height: 32px;\n",
              "      padding: 0 0 0 0;\n",
              "      width: 32px;\n",
              "    }\n",
              "\n",
              "    .colab-df-convert:hover {\n",
              "      background-color: #E2EBFA;\n",
              "      box-shadow: 0px 1px 2px rgba(60, 64, 67, 0.3), 0px 1px 3px 1px rgba(60, 64, 67, 0.15);\n",
              "      fill: #174EA6;\n",
              "    }\n",
              "\n",
              "    [theme=dark] .colab-df-convert {\n",
              "      background-color: #3B4455;\n",
              "      fill: #D2E3FC;\n",
              "    }\n",
              "\n",
              "    [theme=dark] .colab-df-convert:hover {\n",
              "      background-color: #434B5C;\n",
              "      box-shadow: 0px 1px 3px 1px rgba(0, 0, 0, 0.15);\n",
              "      filter: drop-shadow(0px 1px 2px rgba(0, 0, 0, 0.3));\n",
              "      fill: #FFFFFF;\n",
              "    }\n",
              "  </style>\n",
              "\n",
              "      <script>\n",
              "        const buttonEl =\n",
              "          document.querySelector('#df-ed9cae4c-7e9d-43ac-bded-1352dadddf7c button.colab-df-convert');\n",
              "        buttonEl.style.display =\n",
              "          google.colab.kernel.accessAllowed ? 'block' : 'none';\n",
              "\n",
              "        async function convertToInteractive(key) {\n",
              "          const element = document.querySelector('#df-ed9cae4c-7e9d-43ac-bded-1352dadddf7c');\n",
              "          const dataTable =\n",
              "            await google.colab.kernel.invokeFunction('convertToInteractive',\n",
              "                                                     [key], {});\n",
              "          if (!dataTable) return;\n",
              "\n",
              "          const docLinkHtml = 'Like what you see? Visit the ' +\n",
              "            '<a target=\"_blank\" href=https://colab.research.google.com/notebooks/data_table.ipynb>data table notebook</a>'\n",
              "            + ' to learn more about interactive tables.';\n",
              "          element.innerHTML = '';\n",
              "          dataTable['output_type'] = 'display_data';\n",
              "          await google.colab.output.renderOutput(dataTable, element);\n",
              "          const docLink = document.createElement('div');\n",
              "          docLink.innerHTML = docLinkHtml;\n",
              "          element.appendChild(docLink);\n",
              "        }\n",
              "      </script>\n",
              "    </div>\n",
              "  </div>\n",
              "  "
            ]
          },
          "metadata": {},
          "execution_count": 7
        }
      ]
    },
    {
      "cell_type": "markdown",
      "source": [
        "# 2. EDA (Exploratory Data Analysis)"
      ],
      "metadata": {
        "id": "3WSth5CjnD6h"
      }
    },
    {
      "cell_type": "code",
      "source": [
        "# Drop leaky features\n",
        "# Those features with \"post\" are likely to be leaky featyres since those features happen after the earthquake.\n",
        "df.drop(columns = [\"count_floors_post_eq\", \"height_ft_post_eq\", \"condition_post_eq\"], inplace = True)"
      ],
      "metadata": {
        "id": "tDmkFW4LOkZx"
      },
      "execution_count": 8,
      "outputs": []
    },
    {
      "cell_type": "markdown",
      "source": [
        "Check correlation features"
      ],
      "metadata": {
        "id": "WYnvP2slUS3i"
      }
    },
    {
      "cell_type": "code",
      "source": [
        "# Create correlation matrix\n",
        "correlation = df.select_dtypes(\"number\").drop(columns = \"severe_damage\").corr()\n",
        "# Plot heatmap of `correlation`\n",
        "sns.heatmap(correlation)"
      ],
      "metadata": {
        "colab": {
          "base_uri": "https://localhost:8080/",
          "height": 376
        },
        "id": "WpcLzcwinGjp",
        "outputId": "7ec523a6-e199-4bea-d253-4e3ef60be1ba"
      },
      "execution_count": 9,
      "outputs": [
        {
          "output_type": "execute_result",
          "data": {
            "text/plain": [
              "<matplotlib.axes._subplots.AxesSubplot at 0x7f43fcd31850>"
            ]
          },
          "metadata": {},
          "execution_count": 9
        },
        {
          "output_type": "display_data",
          "data": {
            "text/plain": [
              "<Figure size 432x288 with 2 Axes>"
            ],
            "image/png": "[encoded data removed]"
          },
          "metadata": {
            "needs_background": "light"
          }
        }
      ]
    },
    {
      "cell_type": "markdown",
      "source": [
        "We saw that the correlation coefficient between `\"count_floors_pre_eq\"` and `\"height_ft_pre_eq\"` is nearly 1 so we only need one of those so I will decide to drop one of those but the question is `Which one`"
      ],
      "metadata": {
        "id": "dRHESn7gNjEJ"
      }
    },
    {
      "cell_type": "code",
      "source": [
        "corr_count_floors_pre_eq = df[\"severe_damage\"].corr(df[\"count_floors_pre_eq\"])\n",
        "corr_height_ft_pre_eq = df[\"severe_damage\"].corr(df[\"height_ft_pre_eq\"])\n",
        "print(f\"The corelation coefficient between count_floors_pre_eq and severe_damage: {corr_count_floors_pre_eq}\")\n",
        "print(f\"The corelation coefficient between height_ft_pre_eq and severe_damage: {corr_height_ft_pre_eq}\")"
      ],
      "metadata": {
        "colab": {
          "base_uri": "https://localhost:8080/"
        },
        "id": "u6zD_DTYP8UW",
        "outputId": "70e9c993-0910-495d-ec42-a9b72f54de31"
      },
      "execution_count": 10,
      "outputs": [
        {
          "output_type": "stream",
          "name": "stdout",
          "text": [
            "The corelation coefficient between count_floors_pre_eq and severe_damage: 0.002892630372575261\n",
            "The corelation coefficient between height_ft_pre_eq and severe_damage: -0.03847659083302044\n"
          ]
        }
      ]
    },
    {
      "cell_type": "markdown",
      "source": [
        "It can be seen that the corelation coefficient between `\"count_floors_pre_eq\"` and `\"severe_damage\"` is smaller so I will drop this feature"
      ],
      "metadata": {
        "id": "a6ZGSqgcRECG"
      }
    },
    {
      "cell_type": "code",
      "source": [
        "df.drop(columns = \"count_floors_pre_eq\", inplace = True)"
      ],
      "metadata": {
        "id": "BkYTSbBQRVvk"
      },
      "execution_count": 11,
      "outputs": []
    },
    {
      "cell_type": "markdown",
      "source": [
        " Is there a relationship between the footprint size of a building and the damage it sustained in the earthquake"
      ],
      "metadata": {
        "id": "-7Va1a9UTJYa"
      }
    },
    {
      "cell_type": "code",
      "source": [
        "sns.boxplot(x = \"severe_damage\", y = \"plinth_area_sq_ft\", data = df)\n",
        "plt.xlabel(\"Severe Damage\")\n",
        "plt.ylabel(\"Plinth Area [sq. ft.]\")\n",
        "plt.title(\"Plinth Area vs Building Damage\")"
      ],
      "metadata": {
        "colab": {
          "base_uri": "https://localhost:8080/",
          "height": 312
        },
        "id": "aO5pqSELTExP",
        "outputId": "9515c6ee-5372-4062-9d84-212d3d5d3b3a"
      },
      "execution_count": 12,
      "outputs": [
        {
          "output_type": "execute_result",
          "data": {
            "text/plain": [
              "Text(0.5, 1.0, 'Plinth Area vs Building Damage')"
            ]
          },
          "metadata": {},
          "execution_count": 12
        },
        {
          "output_type": "display_data",
          "data": {
            "text/plain": [
              "<Figure size 432x288 with 1 Axes>"
            ],
            "image/png": "[encoded data removed]"
          },
          "metadata": {
            "needs_background": "light"
          }
        }
      ]
    },
    {
      "cell_type": "code",
      "source": [
        "majority_class_prop, minority_class_prop = df[\"severe_damage\"].value_counts(\n",
        "    normalize = True)\n",
        "print(majority_class_prop, minority_class_prop)"
      ],
      "metadata": {
        "colab": {
          "base_uri": "https://localhost:8080/"
        },
        "id": "ZkN2eGvsUg1a",
        "outputId": "6533a471-6976-42fd-c62e-eab10f812981"
      },
      "execution_count": 13,
      "outputs": [
        {
          "output_type": "stream",
          "name": "stdout",
          "text": [
            "0.6425969845841097 0.3574030154158902\n"
          ]
        }
      ]
    },
    {
      "cell_type": "code",
      "source": [
        "# Plot value counts of `\"severe_damage\"`\n",
        "df[\"severe_damage\"].value_counts(normalize = True).plot(\n",
        "\tkind = \"bar\", xlabel = \"Class\", ylabel = \"Relative Frequency\", title = \"Class Balance\"\n",
        ")"
      ],
      "metadata": {
        "colab": {
          "base_uri": "https://localhost:8080/",
          "height": 309
        },
        "id": "r8GAp6JuSfgg",
        "outputId": "dac51cfa-8e3e-44f4-f62e-eb8fb918b65b"
      },
      "execution_count": 14,
      "outputs": [
        {
          "output_type": "execute_result",
          "data": {
            "text/plain": [
              "<matplotlib.axes._subplots.AxesSubplot at 0x7f43fbeed7c0>"
            ]
          },
          "metadata": {},
          "execution_count": 14
        },
        {
          "output_type": "display_data",
          "data": {
            "text/plain": [
              "<Figure size 432x288 with 1 Axes>"
            ],
            "image/png": "[encoded data removed]"
          },
          "metadata": {
            "needs_background": "light"
          }
        }
      ]
    },
    {
      "cell_type": "markdown",
      "source": [
        "Are buildings with certain foundation types more likely to suffer severe damage? "
      ],
      "metadata": {
        "id": "qLwo7WRuSuMJ"
      }
    },
    {
      "cell_type": "code",
      "source": [
        "# Create pivot table\n",
        "foundation_pivot = pd.pivot_table(\n",
        "\tdf, index = \"foundation_type\", values = \"severe_damage\", aggfunc = np.mean\n",
        ").sort_values(by = \"severe_damage\")\n",
        "foundation_pivot"
      ],
      "metadata": {
        "colab": {
          "base_uri": "https://localhost:8080/",
          "height": 237
        },
        "id": "DWU5ErmrSrHH",
        "outputId": "04ef8b3d-5c6d-4a12-d9f2-11010d48adee"
      },
      "execution_count": 15,
      "outputs": [
        {
          "output_type": "execute_result",
          "data": {
            "text/plain": [
              "                        severe_damage\n",
              "foundation_type                      \n",
              "RC                           0.026224\n",
              "Bamboo/Timber                0.324074\n",
              "Cement-Stone/Brick           0.421908\n",
              "Mud mortar-Stone/Brick       0.687792\n",
              "Other                        0.818898"
            ],
            "text/html": [
              "\n",
              "  <div id=\"df-0346647f-118b-4d55-a023-b39a630ad606\">\n",
              "    <div class=\"colab-df-container\">\n",
              "      <div>\n",
              "<style scoped>\n",
              "    .dataframe tbody tr th:only-of-type {\n",
              "        vertical-align: middle;\n",
              "    }\n",
              "\n",
              "    .dataframe tbody tr th {\n",
              "        vertical-align: top;\n",
              "    }\n",
              "\n",
              "    .dataframe thead th {\n",
              "        text-align: right;\n",
              "    }\n",
              "</style>\n",
              "<table border=\"1\" class=\"dataframe\">\n",
              "  <thead>\n",
              "    <tr style=\"text-align: right;\">\n",
              "      <th></th>\n",
              "      <th>severe_damage</th>\n",
              "    </tr>\n",
              "    <tr>\n",
              "      <th>foundation_type</th>\n",
              "      <th></th>\n",
              "    </tr>\n",
              "  </thead>\n",
              "  <tbody>\n",
              "    <tr>\n",
              "      <th>RC</th>\n",
              "      <td>0.026224</td>\n",
              "    </tr>\n",
              "    <tr>\n",
              "      <th>Bamboo/Timber</th>\n",
              "      <td>0.324074</td>\n",
              "    </tr>\n",
              "    <tr>\n",
              "      <th>Cement-Stone/Brick</th>\n",
              "      <td>0.421908</td>\n",
              "    </tr>\n",
              "    <tr>\n",
              "      <th>Mud mortar-Stone/Brick</th>\n",
              "      <td>0.687792</td>\n",
              "    </tr>\n",
              "    <tr>\n",
              "      <th>Other</th>\n",
              "      <td>0.818898</td>\n",
              "    </tr>\n",
              "  </tbody>\n",
              "</table>\n",
              "</div>\n",
              "      <button class=\"colab-df-convert\" onclick=\"convertToInteractive('df-0346647f-118b-4d55-a023-b39a630ad606')\"\n",
              "              title=\"Convert this dataframe to an interactive table.\"\n",
              "              style=\"display:none;\">\n",
              "        \n",
              "  <svg xmlns=\"http://www.w3.org/2000/svg\" height=\"24px\"viewBox=\"0 0 24 24\"\n",
              "       width=\"24px\">\n",
              "    <path d=\"M0 0h24v24H0V0z\" fill=\"none\"/>\n",
              "    <path d=\"M18.56 5.44l.94 2.06.94-2.06 2.06-.94-2.06-.94-.94-2.06-.94 2.06-2.06.94zm-11 1L8.5 8.5l.94-2.06 2.06-.94-2.06-.94L8.5 2.5l-.94 2.06-2.06.94zm10 10l.94 2.06.94-2.06 2.06-.94-2.06-.94-.94-2.06-.94 2.06-2.06.94z\"/><path d=\"M17.41 7.96l-1.37-1.37c-.4-.4-.92-.59-1.43-.59-.52 0-1.04.2-1.43.59L10.3 9.45l-7.72 7.72c-.78.78-.78 2.05 0 2.83L4 21.41c.39.39.9.59 1.41.59.51 0 1.02-.2 1.41-.59l7.78-7.78 2.81-2.81c.8-.78.8-2.07 0-2.86zM5.41 20L4 18.59l7.72-7.72 1.47 1.35L5.41 20z\"/>\n",
              "  </svg>\n",
              "      </button>\n",
              "      \n",
              "  <style>\n",
              "    .colab-df-container {\n",
              "      display:flex;\n",
              "      flex-wrap:wrap;\n",
              "      gap: 12px;\n",
              "    }\n",
              "\n",
              "    .colab-df-convert {\n",
              "      background-color: #E8F0FE;\n",
              "      border: none;\n",
              "      border-radius: 50%;\n",
              "      cursor: pointer;\n",
              "      display: none;\n",
              "      fill: #1967D2;\n",
              "      height: 32px;\n",
              "      padding: 0 0 0 0;\n",
              "      width: 32px;\n",
              "    }\n",
              "\n",
              "    .colab-df-convert:hover {\n",
              "      background-color: #E2EBFA;\n",
              "      box-shadow: 0px 1px 2px rgba(60, 64, 67, 0.3), 0px 1px 3px 1px rgba(60, 64, 67, 0.15);\n",
              "      fill: #174EA6;\n",
              "    }\n",
              "\n",
              "    [theme=dark] .colab-df-convert {\n",
              "      background-color: #3B4455;\n",
              "      fill: #D2E3FC;\n",
              "    }\n",
              "\n",
              "    [theme=dark] .colab-df-convert:hover {\n",
              "      background-color: #434B5C;\n",
              "      box-shadow: 0px 1px 3px 1px rgba(0, 0, 0, 0.15);\n",
              "      filter: drop-shadow(0px 1px 2px rgba(0, 0, 0, 0.3));\n",
              "      fill: #FFFFFF;\n",
              "    }\n",
              "  </style>\n",
              "\n",
              "      <script>\n",
              "        const buttonEl =\n",
              "          document.querySelector('#df-0346647f-118b-4d55-a023-b39a630ad606 button.colab-df-convert');\n",
              "        buttonEl.style.display =\n",
              "          google.colab.kernel.accessAllowed ? 'block' : 'none';\n",
              "\n",
              "        async function convertToInteractive(key) {\n",
              "          const element = document.querySelector('#df-0346647f-118b-4d55-a023-b39a630ad606');\n",
              "          const dataTable =\n",
              "            await google.colab.kernel.invokeFunction('convertToInteractive',\n",
              "                                                     [key], {});\n",
              "          if (!dataTable) return;\n",
              "\n",
              "          const docLinkHtml = 'Like what you see? Visit the ' +\n",
              "            '<a target=\"_blank\" href=https://colab.research.google.com/notebooks/data_table.ipynb>data table notebook</a>'\n",
              "            + ' to learn more about interactive tables.';\n",
              "          element.innerHTML = '';\n",
              "          dataTable['output_type'] = 'display_data';\n",
              "          await google.colab.output.renderOutput(dataTable, element);\n",
              "          const docLink = document.createElement('div');\n",
              "          docLink.innerHTML = docLinkHtml;\n",
              "          element.appendChild(docLink);\n",
              "        }\n",
              "      </script>\n",
              "    </div>\n",
              "  </div>\n",
              "  "
            ]
          },
          "metadata": {},
          "execution_count": 15
        }
      ]
    },
    {
      "cell_type": "code",
      "source": [
        "# Plot bar chart of `foundation_pivot`\n",
        "foundation_pivot.plot(kind = \"barh\", legend = None)\n",
        "plt.axvline(\n",
        "\tmajority_class_prop, linestyle = \"--\", color = \"red\", label = \"majority class\"\n",
        ")\n",
        "plt.axvline(\n",
        "\tminority_class_prop, linestyle = \"--\", color = \"green\", label = \"minority class\"\n",
        ")\n",
        "plt.legend(loc = \"lower right\")"
      ],
      "metadata": {
        "colab": {
          "base_uri": "https://localhost:8080/",
          "height": 282
        },
        "id": "cu_yPWCsUX53",
        "outputId": "2acaf0be-9784-4ff9-86dc-cb87e226ee80"
      },
      "execution_count": 16,
      "outputs": [
        {
          "output_type": "execute_result",
          "data": {
            "text/plain": [
              "<matplotlib.legend.Legend at 0x7f43fbe23c70>"
            ]
          },
          "metadata": {},
          "execution_count": 16
        },
        {
          "output_type": "display_data",
          "data": {
            "text/plain": [
              "<Figure size 432x288 with 1 Axes>"
            ],
            "image/png": "[encoded data removed]"
          },
          "metadata": {
            "needs_background": "light"
          }
        }
      ]
    },
    {
      "cell_type": "markdown",
      "source": [
        "Checking High-Cardinality, Low-Cardinality features"
      ],
      "metadata": {
        "id": "hbPqQ4ezUlbq"
      }
    },
    {
      "cell_type": "code",
      "source": [
        "# Check for high- and low-cardinality categorical features\n",
        "df.select_dtypes(\"object\").nunique()"
      ],
      "metadata": {
        "colab": {
          "base_uri": "https://localhost:8080/"
        },
        "id": "L5suRMEiUjN-",
        "outputId": "367ecc46-19c8-43a3-ee68-23e423612e4a"
      },
      "execution_count": 17,
      "outputs": [
        {
          "output_type": "execute_result",
          "data": {
            "text/plain": [
              "land_surface_condition     3\n",
              "foundation_type            5\n",
              "roof_type                  3\n",
              "ground_floor_type          5\n",
              "other_floor_type           4\n",
              "position                   4\n",
              "plan_configuration        10\n",
              "superstructure            11\n",
              "dtype: int64"
            ]
          },
          "metadata": {},
          "execution_count": 17
        }
      ]
    },
    {
      "cell_type": "markdown",
      "source": [
        "# 3. Split Data"
      ],
      "metadata": {
        "id": "RYpPcLHGTTKQ"
      }
    },
    {
      "cell_type": "code",
      "source": [
        "# Split feature columns and label \n",
        "target = \"severe_damage\"\n",
        "X = df.drop(columns = [target])\n",
        "y = df[target]\n",
        "print(\"X shape:\", X.shape)\n",
        "print(\"y shape:\", y.shape)"
      ],
      "metadata": {
        "colab": {
          "base_uri": "https://localhost:8080/"
        },
        "id": "99ZIeBprTU0f",
        "outputId": "59dee97c-279b-4c35-e9fd-396df82a0785"
      },
      "execution_count": 18,
      "outputs": [
        {
          "output_type": "stream",
          "name": "stdout",
          "text": [
            "X shape: (70836, 11)\n",
            "y shape: (70836,)\n"
          ]
        }
      ]
    },
    {
      "cell_type": "code",
      "source": [
        "X_train, X_test, y_train, y_test = train_test_split(X, y, test_size = 0.2, random_state = 42)"
      ],
      "metadata": {
        "id": "EGHb77KlZLE5"
      },
      "execution_count": 20,
      "outputs": []
    },
    {
      "cell_type": "code",
      "source": [
        "X_train, X_val, y_train, y_val = train_test_split(\n",
        "    X_train, y_train, test_size = 0.2, random_state = 42)\n",
        "print(\"X_train shape:\", X_train.shape)\n",
        "print(\"y_train shape:\", y_train.shape)\n",
        "print(\"X_test shape:\", X_test.shape)\n",
        "print(\"y_test shape:\", y_test.shape)"
      ],
      "metadata": {
        "colab": {
          "base_uri": "https://localhost:8080/"
        },
        "id": "6LKwSfz_UE0R",
        "outputId": "fa112c53-6871-4992-adef-edaae312b049"
      },
      "execution_count": 21,
      "outputs": [
        {
          "output_type": "stream",
          "name": "stdout",
          "text": [
            "X_train shape: (45334, 11)\n",
            "y_train shape: (45334,)\n",
            "X_test shape: (14168, 11)\n",
            "y_test shape: (14168,)\n"
          ]
        }
      ]
    },
    {
      "cell_type": "markdown",
      "source": [
        "# 4. Logistic Regression"
      ],
      "metadata": {
        "id": "Zow2QAS8VlIM"
      }
    },
    {
      "cell_type": "markdown",
      "source": [
        "### Baseline"
      ],
      "metadata": {
        "id": "jyAACW1xVs4i"
      }
    },
    {
      "cell_type": "code",
      "source": [
        "acc_baseline = y.value_counts(normalize = True).max()\n",
        "print(\"Baseline Accuracy:\", round(acc_baseline, 2))"
      ],
      "metadata": {
        "colab": {
          "base_uri": "https://localhost:8080/"
        },
        "id": "TEgwe7MXVnmS",
        "outputId": "67acce2b-a85b-48ea-b569-f10149a2cc5e"
      },
      "execution_count": 22,
      "outputs": [
        {
          "output_type": "stream",
          "name": "stdout",
          "text": [
            "Baseline Accuracy: 0.64\n"
          ]
        }
      ]
    },
    {
      "cell_type": "markdown",
      "source": [
        "### Iterate"
      ],
      "metadata": {
        "id": "ZcUX65wFVz8H"
      }
    },
    {
      "cell_type": "code",
      "source": [
        "model_lr = make_pipeline(OneHotEncoder(use_cat_names = True), LogisticRegression(max_iter = 1000))\n",
        "model_lr.fit(X_train, y_train)"
      ],
      "metadata": {
        "colab": {
          "base_uri": "https://localhost:8080/"
        },
        "id": "ni0nalm2V3JV",
        "outputId": "84367ff7-5154-4370-b265-d16ed3b7f94a"
      },
      "execution_count": 23,
      "outputs": [
        {
          "output_type": "execute_result",
          "data": {
            "text/plain": [
              "Pipeline(steps=[('onehotencoder',\n",
              "                 OneHotEncoder(cols=['land_surface_condition',\n",
              "                                     'foundation_type', 'roof_type',\n",
              "                                     'ground_floor_type', 'other_floor_type',\n",
              "                                     'position', 'plan_configuration',\n",
              "                                     'superstructure'],\n",
              "                               use_cat_names=True)),\n",
              "                ('logisticregression', LogisticRegression(max_iter=1000))])"
            ]
          },
          "metadata": {},
          "execution_count": 23
        }
      ]
    },
    {
      "cell_type": "code",
      "source": [
        "lr_train_acc = accuracy_score(y_train, model_lr.predict(X_train))\n",
        "lr_val_acc = accuracy_score(y_val, model_lr.predict(X_val))\n",
        "\n",
        "print(\"Logistic Regression, Training Accuracy Score:\", lr_train_acc)\n",
        "print(\"Logistic Regression, Validation Accuracy Score:\", lr_val_acc)"
      ],
      "metadata": {
        "colab": {
          "base_uri": "https://localhost:8080/"
        },
        "id": "QPUpoc_OW9oF",
        "outputId": "d8c6fd0e-920c-4db7-ddea-22ef05c319c5"
      },
      "execution_count": 24,
      "outputs": [
        {
          "output_type": "stream",
          "name": "stdout",
          "text": [
            "Logistic Regression, Training Accuracy Score: 0.7137689151630123\n",
            "Logistic Regression, Validation Accuracy Score: 0.7151932239280042\n"
          ]
        }
      ]
    },
    {
      "cell_type": "code",
      "source": [
        "lr_test_acc = accuracy_score(y_test, model_lr.predict(X_test))\n",
        "print(\"Logistic Regression, Test Accuracy Score:\", lr_test_acc)"
      ],
      "metadata": {
        "colab": {
          "base_uri": "https://localhost:8080/"
        },
        "id": "Z7XQSy9lcNPc",
        "outputId": "75796685-a943-4a97-dab1-cc1cb40d675d"
      },
      "execution_count": 31,
      "outputs": [
        {
          "output_type": "stream",
          "name": "stdout",
          "text": [
            "Logistic Regression, Test Accuracy Score: 0.7223320158102767\n"
          ]
        }
      ]
    },
    {
      "cell_type": "markdown",
      "source": [
        "### 6. Communicate"
      ],
      "metadata": {
        "id": "LxGII8bcZbeZ"
      }
    },
    {
      "cell_type": "code",
      "source": [
        "features = model_lr.named_steps[\"onehotencoder\"].get_feature_names()\n",
        "importances = model_lr.named_steps[\"logisticregression\"].coef_[0]"
      ],
      "metadata": {
        "colab": {
          "base_uri": "https://localhost:8080/"
        },
        "id": "6ZG7J_0YZfJ1",
        "outputId": "d7abea57-0d78-41d0-9c04-6b435f8cdf23"
      },
      "execution_count": 26,
      "outputs": [
        {
          "output_type": "stream",
          "name": "stderr",
          "text": [
            "/usr/local/lib/python3.8/dist-packages/category_encoders/utils.py:360: FutureWarning: `get_feature_names` is deprecated in all of sklearn. Use `get_feature_names_out` instead.\n",
            "  warnings.warn(\"`get_feature_names` is deprecated in all of sklearn. Use `get_feature_names_out` instead.\",\n"
          ]
        }
      ]
    },
    {
      "cell_type": "code",
      "source": [
        "odds_ratios = pd.Series(np.exp(importances), index = features).sort_values()\n",
        "odds_ratios.head()"
      ],
      "metadata": {
        "colab": {
          "base_uri": "https://localhost:8080/"
        },
        "id": "Y8Mk2YsFZi1x",
        "outputId": "66efd44e-c32e-4ad9-ae88-0af117b9dc0c"
      },
      "execution_count": 27,
      "outputs": [
        {
          "output_type": "execute_result",
          "data": {
            "text/plain": [
              "superstructure_Brick, cement mortar    0.292236\n",
              "foundation_type_RC                     0.352548\n",
              "roof_type_RCC/RB/RBC                   0.385398\n",
              "ground_floor_type_RC                   0.477673\n",
              "other_floor_type_RCC/RB/RBC            0.544799\n",
              "dtype: float64"
            ]
          },
          "metadata": {},
          "execution_count": 27
        }
      ]
    },
    {
      "cell_type": "code",
      "source": [
        "# Horizontal bar chart, five largest coefficients\n",
        "odds_ratios.tail().plot(kind = \"barh\")\n",
        "plt.xlabel(\"Odds Ratio\")"
      ],
      "metadata": {
        "colab": {
          "base_uri": "https://localhost:8080/",
          "height": 296
        },
        "id": "e7rKmD3ZZldH",
        "outputId": "b1c2121c-aab2-454e-8d8a-2e11b27b4cac"
      },
      "execution_count": 28,
      "outputs": [
        {
          "output_type": "execute_result",
          "data": {
            "text/plain": [
              "Text(0.5, 0, 'Odds Ratio')"
            ]
          },
          "metadata": {},
          "execution_count": 28
        },
        {
          "output_type": "display_data",
          "data": {
            "text/plain": [
              "<Figure size 432x288 with 1 Axes>"
            ],
            "image/png": "[encoded data removed]"
          },
          "metadata": {
            "needs_background": "light"
          }
        }
      ]
    },
    {
      "cell_type": "code",
      "source": [
        "# Horizontal bar chart, five smallest coefficients\n",
        "odds_ratios.head().plot(kind = \"barh\")\n",
        "plt.xlabel(\"Odds Ratio\")"
      ],
      "metadata": {
        "colab": {
          "base_uri": "https://localhost:8080/",
          "height": 296
        },
        "id": "ZMv3-UZYaxqL",
        "outputId": "6a51a723-5d6c-4d4b-c545-06a0529a108e"
      },
      "execution_count": 29,
      "outputs": [
        {
          "output_type": "execute_result",
          "data": {
            "text/plain": [
              "Text(0.5, 0, 'Odds Ratio')"
            ]
          },
          "metadata": {},
          "execution_count": 29
        },
        {
          "output_type": "display_data",
          "data": {
            "text/plain": [
              "<Figure size 432x288 with 1 Axes>"
            ],
            "image/png": "[encoded data removed]"
          },
          "metadata": {
            "needs_background": "light"
          }
        }
      ]
    }
  ]
}
{
  "nbformat": 4,
  "nbformat_minor": 0,
  "metadata": {
    "colab": {
      "provenance": [],
      "authorship_tag": "ABX9TyOHWv3GqXxLBeYPMgle5Ckk",
      "include_colab_link": true
    },
    "kernelspec": {
      "name": "python3",
      "display_name": "Python 3"
    },
    "language_info": {
      "name": "python"
    }
  },
  "cells": [
    {
      "cell_type": "markdown",
      "metadata": {
        "id": "view-in-github",
        "colab_type": "text"
      },
      "source": [
        "<a href=\"https://colab.research.google.com/github/tuancompa2610/Earthquake-Damage-in-Nepal/blob/main/Nepal_Earthquake.ipynb\" target=\"_parent\"><img src=\"https://colab.research.google.com/assets/colab-badge.svg\" alt=\"Open In Colab\"/></a>"
      ]
    },
    {
      "cell_type": "markdown",
      "source": [
        "# 1. Data Preparation\n",
        "\n",
        "\n"
      ],
      "metadata": {
        "id": "QnowSjZklB2r"
      }
    },
    {
      "cell_type": "code",
      "source": [
        "# Import Library\n",
        "import matplotlib.pyplot as plt\n",
        "import numpy as np\n",
        "import pandas as pd\n",
        "import seaborn as sns\n",
        "\n",
        "from category_encoders import OneHotEncoder\n",
        "from sklearn.linear_model import LogisticRegression\n",
        "from sklearn.metrics import accuracy_score\n",
        "from sklearn.model_selection import train_test_split\n",
        "from sklearn.pipeline import Pipeline, make_pipeline\n",
        "from sklearn.utils.validation import check_is_fitted\n",
        "from category_encoders import OrdinalEncoder\n",
        "from sklearn.tree import DecisionTreeClassifier, plot_tree\n"
      ],
      "metadata": {
        "id": "jdkBewaHlF99"
      },
      "execution_count": 115,
      "outputs": []
    },
    {
      "cell_type": "code",
      "source": [
        "# Load dataset from local\n",
        "from google.colab import files\n",
        "uploaded = files.upload()"
      ],
      "metadata": {
        "colab": {
          "base_uri": "https://localhost:8080/",
          "height": 73
        },
        "id": "4jpUlPdDlmO3",
        "outputId": "502c04c6-39f0-4975-ef13-2c52fb2f794a"
      },
      "execution_count": 116,
      "outputs": [
        {
          "output_type": "display_data",
          "data": {
            "text/plain": [
              "<IPython.core.display.HTML object>"
            ],
            "text/html": [
              "\n",
              "     <input type=\"file\" id=\"files-a735d0d9-532a-4b2a-8927-8e8cba3df632\" name=\"files[]\" multiple disabled\n",
              "        style=\"border:none\" />\n",
              "     <output id=\"result-a735d0d9-532a-4b2a-8927-8e8cba3df632\">\n",
              "      Upload widget is only available when the cell has been executed in the\n",
              "      current browser session. Please rerun this cell to enable.\n",
              "      </output>\n",
              "      <script>// Copyright 2017 Google LLC\n",
              "//\n",
              "// Licensed under the Apache License, Version 2.0 (the \"License\");\n",
              "// you may not use this file except in compliance with the License.\n",
              "// You may obtain a copy of the License at\n",
              "//\n",
              "//      http://www.apache.org/licenses/LICENSE-2.0\n",
              "//\n",
              "// Unless required by applicable law or agreed to in writing, software\n",
              "// distributed under the License is distributed on an \"AS IS\" BASIS,\n",
              "// WITHOUT WARRANTIES OR CONDITIONS OF ANY KIND, either express or implied.\n",
              "// See the License for the specific language governing permissions and\n",
              "// limitations under the License.\n",
              "\n",
              "/**\n",
              " * @fileoverview Helpers for google.colab Python module.\n",
              " */\n",
              "(function(scope) {\n",
              "function span(text, styleAttributes = {}) {\n",
              "  const element = document.createElement('span');\n",
              "  element.textContent = text;\n",
              "  for (const key of Object.keys(styleAttributes)) {\n",
              "    element.style[key] = styleAttributes[key];\n",
              "  }\n",
              "  return element;\n",
              "}\n",
              "\n",
              "// Max number of bytes which will be uploaded at a time.\n",
              "const MAX_PAYLOAD_SIZE = 100 * 1024;\n",
              "\n",
              "function _uploadFiles(inputId, outputId) {\n",
              "  const steps = uploadFilesStep(inputId, outputId);\n",
              "  const outputElement = document.getElementById(outputId);\n",
              "  // Cache steps on the outputElement to make it available for the next call\n",
              "  // to uploadFilesContinue from Python.\n",
              "  outputElement.steps = steps;\n",
              "\n",
              "  return _uploadFilesContinue(outputId);\n",
              "}\n",
              "\n",
              "// This is roughly an async generator (not supported in the browser yet),\n",
              "// where there are multiple asynchronous steps and the Python side is going\n",
              "// to poll for completion of each step.\n",
              "// This uses a Promise to block the python side on completion of each step,\n",
              "// then passes the result of the previous step as the input to the next step.\n",
              "function _uploadFilesContinue(outputId) {\n",
              "  const outputElement = document.getElementById(outputId);\n",
              "  const steps = outputElement.steps;\n",
              "\n",
              "  const next = steps.next(outputElement.lastPromiseValue);\n",
              "  return Promise.resolve(next.value.promise).then((value) => {\n",
              "    // Cache the last promise value to make it available to the next\n",
              "    // step of the generator.\n",
              "    outputElement.lastPromiseValue = value;\n",
              "    return next.value.response;\n",
              "  });\n",
              "}\n",
              "\n",
              "/**\n",
              " * Generator function which is called between each async step of the upload\n",
              " * process.\n",
              " * @param {string} inputId Element ID of the input file picker element.\n",
              " * @param {string} outputId Element ID of the output display.\n",
              " * @return {!Iterable<!Object>} Iterable of next steps.\n",
              " */\n",
              "function* uploadFilesStep(inputId, outputId) {\n",
              "  const inputElement = document.getElementById(inputId);\n",
              "  inputElement.disabled = false;\n",
              "\n",
              "  const outputElement = document.getElementById(outputId);\n",
              "  outputElement.innerHTML = '';\n",
              "\n",
              "  const pickedPromise = new Promise((resolve) => {\n",
              "    inputElement.addEventListener('change', (e) => {\n",
              "      resolve(e.target.files);\n",
              "    });\n",
              "  });\n",
              "\n",
              "  const cancel = document.createElement('button');\n",
              "  inputElement.parentElement.appendChild(cancel);\n",
              "  cancel.textContent = 'Cancel upload';\n",
              "  const cancelPromise = new Promise((resolve) => {\n",
              "    cancel.onclick = () => {\n",
              "      resolve(null);\n",
              "    };\n",
              "  });\n",
              "\n",
              "  // Wait for the user to pick the files.\n",
              "  const files = yield {\n",
              "    promise: Promise.race([pickedPromise, cancelPromise]),\n",
              "    response: {\n",
              "      action: 'starting',\n",
              "    }\n",
              "  };\n",
              "\n",
              "  cancel.remove();\n",
              "\n",
              "  // Disable the input element since further picks are not allowed.\n",
              "  inputElement.disabled = true;\n",
              "\n",
              "  if (!files) {\n",
              "    return {\n",
              "      response: {\n",
              "        action: 'complete',\n",
              "      }\n",
              "    };\n",
              "  }\n",
              "\n",
              "  for (const file of files) {\n",
              "    const li = document.createElement('li');\n",
              "    li.append(span(file.name, {fontWeight: 'bold'}));\n",
              "    li.append(span(\n",
              "        `(${file.type || 'n/a'}) - ${file.size} bytes, ` +\n",
              "        `last modified: ${\n",
              "            file.lastModifiedDate ? file.lastModifiedDate.toLocaleDateString() :\n",
              "                                    'n/a'} - `));\n",
              "    const percent = span('0% done');\n",
              "    li.appendChild(percent);\n",
              "\n",
              "    outputElement.appendChild(li);\n",
              "\n",
              "    const fileDataPromise = new Promise((resolve) => {\n",
              "      const reader = new FileReader();\n",
              "      reader.onload = (e) => {\n",
              "        resolve(e.target.result);\n",
              "      };\n",
              "      reader.readAsArrayBuffer(file);\n",
              "    });\n",
              "    // Wait for the data to be ready.\n",
              "    let fileData = yield {\n",
              "      promise: fileDataPromise,\n",
              "      response: {\n",
              "        action: 'continue',\n",
              "      }\n",
              "    };\n",
              "\n",
              "    // Use a chunked sending to avoid message size limits. See b/62115660.\n",
              "    let position = 0;\n",
              "    do {\n",
              "      const length = Math.min(fileData.byteLength - position, MAX_PAYLOAD_SIZE);\n",
              "      const chunk = new Uint8Array(fileData, position, length);\n",
              "      position += length;\n",
              "\n",
              "      const base64 = btoa(String.fromCharCode.apply(null, chunk));\n",
              "      yield {\n",
              "        response: {\n",
              "          action: 'append',\n",
              "          file: file.name,\n",
              "          data: base64,\n",
              "        },\n",
              "      };\n",
              "\n",
              "      let percentDone = fileData.byteLength === 0 ?\n",
              "          100 :\n",
              "          Math.round((position / fileData.byteLength) * 100);\n",
              "      percent.textContent = `${percentDone}% done`;\n",
              "\n",
              "    } while (position < fileData.byteLength);\n",
              "  }\n",
              "\n",
              "  // All done.\n",
              "  yield {\n",
              "    response: {\n",
              "      action: 'complete',\n",
              "    }\n",
              "  };\n",
              "}\n",
              "\n",
              "scope.google = scope.google || {};\n",
              "scope.google.colab = scope.google.colab || {};\n",
              "scope.google.colab._files = {\n",
              "  _uploadFiles,\n",
              "  _uploadFilesContinue,\n",
              "};\n",
              "})(self);\n",
              "</script> "
            ]
          },
          "metadata": {}
        },
        {
          "output_type": "stream",
          "name": "stdout",
          "text": [
            "Saving nepal_earthquake.csv to nepal_earthquake.csv\n"
          ]
        }
      ]
    },
    {
      "cell_type": "code",
      "source": [
        "# Load data. Since our csv file has Unamed columns we should add parameter \"index_col\" in read_csv function\n",
        "df = pd.read_csv(\"/content/nepal_earthquake.csv\", index_col = 0)\n",
        "df.head()"
      ],
      "metadata": {
        "colab": {
          "base_uri": "https://localhost:8080/",
          "height": 357
        },
        "id": "nHHmytJnmjHT",
        "outputId": "08f9c1c9-60ae-49fd-aaed-b41043fd544e"
      },
      "execution_count": 117,
      "outputs": [
        {
          "output_type": "execute_result",
          "data": {
            "text/plain": [
              "     b_id  building_id  count_floors_pre_eq  count_floors_post_eq  \\\n",
              "1  164002       164002                    3                     3   \n",
              "2  164081       164081                    2                     2   \n",
              "3  164089       164089                    3                     3   \n",
              "4  164098       164098                    2                     2   \n",
              "5  164103       164103                    2                     2   \n",
              "\n",
              "   age_building  plinth_area_sq_ft  height_ft_pre_eq  height_ft_post_eq  \\\n",
              "1            20                560                18                 18   \n",
              "2            21                200                12                 12   \n",
              "3            18                315                20                 20   \n",
              "4            45                290                13                 13   \n",
              "5            21                230                13                 13   \n",
              "\n",
              "  land_surface_condition         foundation_type                 roof_type  \\\n",
              "1                   Flat  Mud mortar-Stone/Brick  Bamboo/Timber-Light roof   \n",
              "2                   Flat  Mud mortar-Stone/Brick  Bamboo/Timber-Light roof   \n",
              "3                   Flat  Mud mortar-Stone/Brick  Bamboo/Timber-Light roof   \n",
              "4                   Flat  Mud mortar-Stone/Brick  Bamboo/Timber-Light roof   \n",
              "5                   Flat  Mud mortar-Stone/Brick  Bamboo/Timber-Light roof   \n",
              "\n",
              "  ground_floor_type   other_floor_type      position plan_configuration  \\\n",
              "1               Mud  TImber/Bamboo-Mud  Not attached        Rectangular   \n",
              "2               Mud  TImber/Bamboo-Mud  Not attached        Rectangular   \n",
              "3               Mud  TImber/Bamboo-Mud  Not attached        Rectangular   \n",
              "4               Mud  TImber/Bamboo-Mud  Not attached        Rectangular   \n",
              "5               Mud  TImber/Bamboo-Mud  Not attached        Rectangular   \n",
              "\n",
              "           condition_post_eq     superstructure damage_grade  \n",
              "1  Damaged-Repaired and used  Stone, mud mortar      Grade 2  \n",
              "2       Damaged-Used in risk  Stone, mud mortar      Grade 2  \n",
              "3       Damaged-Used in risk  Stone, mud mortar      Grade 2  \n",
              "4       Damaged-Used in risk  Stone, mud mortar      Grade 3  \n",
              "5       Damaged-Used in risk  Stone, mud mortar      Grade 3  "
            ],
            "text/html": [
              "\n",
              "  <div id=\"df-59f85ebe-0690-4235-bbb7-8b4bb95baa37\">\n",
              "    <div class=\"colab-df-container\">\n",
              "      <div>\n",
              "<style scoped>\n",
              "    .dataframe tbody tr th:only-of-type {\n",
              "        vertical-align: middle;\n",
              "    }\n",
              "\n",
              "    .dataframe tbody tr th {\n",
              "        vertical-align: top;\n",
              "    }\n",
              "\n",
              "    .dataframe thead th {\n",
              "        text-align: right;\n",
              "    }\n",
              "</style>\n",
              "<table border=\"1\" class=\"dataframe\">\n",
              "  <thead>\n",
              "    <tr style=\"text-align: right;\">\n",
              "      <th></th>\n",
              "      <th>b_id</th>\n",
              "      <th>building_id</th>\n",
              "      <th>count_floors_pre_eq</th>\n",
              "      <th>count_floors_post_eq</th>\n",
              "      <th>age_building</th>\n",
              "      <th>plinth_area_sq_ft</th>\n",
              "      <th>height_ft_pre_eq</th>\n",
              "      <th>height_ft_post_eq</th>\n",
              "      <th>land_surface_condition</th>\n",
              "      <th>foundation_type</th>\n",
              "      <th>roof_type</th>\n",
              "      <th>ground_floor_type</th>\n",
              "      <th>other_floor_type</th>\n",
              "      <th>position</th>\n",
              "      <th>plan_configuration</th>\n",
              "      <th>condition_post_eq</th>\n",
              "      <th>superstructure</th>\n",
              "      <th>damage_grade</th>\n",
              "    </tr>\n",
              "  </thead>\n",
              "  <tbody>\n",
              "    <tr>\n",
              "      <th>1</th>\n",
              "      <td>164002</td>\n",
              "      <td>164002</td>\n",
              "      <td>3</td>\n",
              "      <td>3</td>\n",
              "      <td>20</td>\n",
              "      <td>560</td>\n",
              "      <td>18</td>\n",
              "      <td>18</td>\n",
              "      <td>Flat</td>\n",
              "      <td>Mud mortar-Stone/Brick</td>\n",
              "      <td>Bamboo/Timber-Light roof</td>\n",
              "      <td>Mud</td>\n",
              "      <td>TImber/Bamboo-Mud</td>\n",
              "      <td>Not attached</td>\n",
              "      <td>Rectangular</td>\n",
              "      <td>Damaged-Repaired and used</td>\n",
              "      <td>Stone, mud mortar</td>\n",
              "      <td>Grade 2</td>\n",
              "    </tr>\n",
              "    <tr>\n",
              "      <th>2</th>\n",
              "      <td>164081</td>\n",
              "      <td>164081</td>\n",
              "      <td>2</td>\n",
              "      <td>2</td>\n",
              "      <td>21</td>\n",
              "      <td>200</td>\n",
              "      <td>12</td>\n",
              "      <td>12</td>\n",
              "      <td>Flat</td>\n",
              "      <td>Mud mortar-Stone/Brick</td>\n",
              "      <td>Bamboo/Timber-Light roof</td>\n",
              "      <td>Mud</td>\n",
              "      <td>TImber/Bamboo-Mud</td>\n",
              "      <td>Not attached</td>\n",
              "      <td>Rectangular</td>\n",
              "      <td>Damaged-Used in risk</td>\n",
              "      <td>Stone, mud mortar</td>\n",
              "      <td>Grade 2</td>\n",
              "    </tr>\n",
              "    <tr>\n",
              "      <th>3</th>\n",
              "      <td>164089</td>\n",
              "      <td>164089</td>\n",
              "      <td>3</td>\n",
              "      <td>3</td>\n",
              "      <td>18</td>\n",
              "      <td>315</td>\n",
              "      <td>20</td>\n",
              "      <td>20</td>\n",
              "      <td>Flat</td>\n",
              "      <td>Mud mortar-Stone/Brick</td>\n",
              "      <td>Bamboo/Timber-Light roof</td>\n",
              "      <td>Mud</td>\n",
              "      <td>TImber/Bamboo-Mud</td>\n",
              "      <td>Not attached</td>\n",
              "      <td>Rectangular</td>\n",
              "      <td>Damaged-Used in risk</td>\n",
              "      <td>Stone, mud mortar</td>\n",
              "      <td>Grade 2</td>\n",
              "    </tr>\n",
              "    <tr>\n",
              "      <th>4</th>\n",
              "      <td>164098</td>\n",
              "      <td>164098</td>\n",
              "      <td>2</td>\n",
              "      <td>2</td>\n",
              "      <td>45</td>\n",
              "      <td>290</td>\n",
              "      <td>13</td>\n",
              "      <td>13</td>\n",
              "      <td>Flat</td>\n",
              "      <td>Mud mortar-Stone/Brick</td>\n",
              "      <td>Bamboo/Timber-Light roof</td>\n",
              "      <td>Mud</td>\n",
              "      <td>TImber/Bamboo-Mud</td>\n",
              "      <td>Not attached</td>\n",
              "      <td>Rectangular</td>\n",
              "      <td>Damaged-Used in risk</td>\n",
              "      <td>Stone, mud mortar</td>\n",
              "      <td>Grade 3</td>\n",
              "    </tr>\n",
              "    <tr>\n",
              "      <th>5</th>\n",
              "      <td>164103</td>\n",
              "      <td>164103</td>\n",
              "      <td>2</td>\n",
              "      <td>2</td>\n",
              "      <td>21</td>\n",
              "      <td>230</td>\n",
              "      <td>13</td>\n",
              "      <td>13</td>\n",
              "      <td>Flat</td>\n",
              "      <td>Mud mortar-Stone/Brick</td>\n",
              "      <td>Bamboo/Timber-Light roof</td>\n",
              "      <td>Mud</td>\n",
              "      <td>TImber/Bamboo-Mud</td>\n",
              "      <td>Not attached</td>\n",
              "      <td>Rectangular</td>\n",
              "      <td>Damaged-Used in risk</td>\n",
              "      <td>Stone, mud mortar</td>\n",
              "      <td>Grade 3</td>\n",
              "    </tr>\n",
              "  </tbody>\n",
              "</table>\n",
              "</div>\n",
              "      <button class=\"colab-df-convert\" onclick=\"convertToInteractive('df-59f85ebe-0690-4235-bbb7-8b4bb95baa37')\"\n",
              "              title=\"Convert this dataframe to an interactive table.\"\n",
              "              style=\"display:none;\">\n",
              "        \n",
              "  <svg xmlns=\"http://www.w3.org/2000/svg\" height=\"24px\"viewBox=\"0 0 24 24\"\n",
              "       width=\"24px\">\n",
              "    <path d=\"M0 0h24v24H0V0z\" fill=\"none\"/>\n",
              "    <path d=\"M18.56 5.44l.94 2.06.94-2.06 2.06-.94-2.06-.94-.94-2.06-.94 2.06-2.06.94zm-11 1L8.5 8.5l.94-2.06 2.06-.94-2.06-.94L8.5 2.5l-.94 2.06-2.06.94zm10 10l.94 2.06.94-2.06 2.06-.94-2.06-.94-.94-2.06-.94 2.06-2.06.94z\"/><path d=\"M17.41 7.96l-1.37-1.37c-.4-.4-.92-.59-1.43-.59-.52 0-1.04.2-1.43.59L10.3 9.45l-7.72 7.72c-.78.78-.78 2.05 0 2.83L4 21.41c.39.39.9.59 1.41.59.51 0 1.02-.2 1.41-.59l7.78-7.78 2.81-2.81c.8-.78.8-2.07 0-2.86zM5.41 20L4 18.59l7.72-7.72 1.47 1.35L5.41 20z\"/>\n",
              "  </svg>\n",
              "      </button>\n",
              "      \n",
              "  <style>\n",
              "    .colab-df-container {\n",
              "      display:flex;\n",
              "      flex-wrap:wrap;\n",
              "      gap: 12px;\n",
              "    }\n",
              "\n",
              "    .colab-df-convert {\n",
              "      background-color: #E8F0FE;\n",
              "      border: none;\n",
              "      border-radius: 50%;\n",
              "      cursor: pointer;\n",
              "      display: none;\n",
              "      fill: #1967D2;\n",
              "      height: 32px;\n",
              "      padding: 0 0 0 0;\n",
              "      width: 32px;\n",
              "    }\n",
              "\n",
              "    .colab-df-convert:hover {\n",
              "      background-color: #E2EBFA;\n",
              "      box-shadow: 0px 1px 2px rgba(60, 64, 67, 0.3), 0px 1px 3px 1px rgba(60, 64, 67, 0.15);\n",
              "      fill: #174EA6;\n",
              "    }\n",
              "\n",
              "    [theme=dark] .colab-df-convert {\n",
              "      background-color: #3B4455;\n",
              "      fill: #D2E3FC;\n",
              "    }\n",
              "\n",
              "    [theme=dark] .colab-df-convert:hover {\n",
              "      background-color: #434B5C;\n",
              "      box-shadow: 0px 1px 3px 1px rgba(0, 0, 0, 0.15);\n",
              "      filter: drop-shadow(0px 1px 2px rgba(0, 0, 0, 0.3));\n",
              "      fill: #FFFFFF;\n",
              "    }\n",
              "  </style>\n",
              "\n",
              "      <script>\n",
              "        const buttonEl =\n",
              "          document.querySelector('#df-59f85ebe-0690-4235-bbb7-8b4bb95baa37 button.colab-df-convert');\n",
              "        buttonEl.style.display =\n",
              "          google.colab.kernel.accessAllowed ? 'block' : 'none';\n",
              "\n",
              "        async function convertToInteractive(key) {\n",
              "          const element = document.querySelector('#df-59f85ebe-0690-4235-bbb7-8b4bb95baa37');\n",
              "          const dataTable =\n",
              "            await google.colab.kernel.invokeFunction('convertToInteractive',\n",
              "                                                     [key], {});\n",
              "          if (!dataTable) return;\n",
              "\n",
              "          const docLinkHtml = 'Like what you see? Visit the ' +\n",
              "            '<a target=\"_blank\" href=https://colab.research.google.com/notebooks/data_table.ipynb>data table notebook</a>'\n",
              "            + ' to learn more about interactive tables.';\n",
              "          element.innerHTML = '';\n",
              "          dataTable['output_type'] = 'display_data';\n",
              "          await google.colab.output.renderOutput(dataTable, element);\n",
              "          const docLink = document.createElement('div');\n",
              "          docLink.innerHTML = docLinkHtml;\n",
              "          element.appendChild(docLink);\n",
              "        }\n",
              "      </script>\n",
              "    </div>\n",
              "  </div>\n",
              "  "
            ]
          },
          "metadata": {},
          "execution_count": 117
        }
      ]
    },
    {
      "cell_type": "code",
      "source": [
        "# Get some information about the dataset\n",
        "df.info()"
      ],
      "metadata": {
        "colab": {
          "base_uri": "https://localhost:8080/"
        },
        "id": "RXjl7HRbmmaQ",
        "outputId": "2c057f64-bba4-4cc2-915a-96bd0d0cc9ba"
      },
      "execution_count": 118,
      "outputs": [
        {
          "output_type": "stream",
          "name": "stdout",
          "text": [
            "<class 'pandas.core.frame.DataFrame'>\n",
            "Int64Index: 70836 entries, 1 to 70836\n",
            "Data columns (total 18 columns):\n",
            " #   Column                  Non-Null Count  Dtype \n",
            "---  ------                  --------------  ----- \n",
            " 0   b_id                    70836 non-null  int64 \n",
            " 1   building_id             70836 non-null  int64 \n",
            " 2   count_floors_pre_eq     70836 non-null  int64 \n",
            " 3   count_floors_post_eq    70836 non-null  int64 \n",
            " 4   age_building            70836 non-null  int64 \n",
            " 5   plinth_area_sq_ft       70836 non-null  int64 \n",
            " 6   height_ft_pre_eq        70836 non-null  int64 \n",
            " 7   height_ft_post_eq       70836 non-null  int64 \n",
            " 8   land_surface_condition  70836 non-null  object\n",
            " 9   foundation_type         70836 non-null  object\n",
            " 10  roof_type               70836 non-null  object\n",
            " 11  ground_floor_type       70836 non-null  object\n",
            " 12  other_floor_type        70836 non-null  object\n",
            " 13  position                70836 non-null  object\n",
            " 14  plan_configuration      70836 non-null  object\n",
            " 15  condition_post_eq       70836 non-null  object\n",
            " 16  superstructure          70836 non-null  object\n",
            " 17  damage_grade            70836 non-null  object\n",
            "dtypes: int64(8), object(10)\n",
            "memory usage: 10.3+ MB\n"
          ]
        }
      ]
    },
    {
      "cell_type": "code",
      "source": [
        "df[\"damage_grade\"].value_counts().sort_values()"
      ],
      "metadata": {
        "colab": {
          "base_uri": "https://localhost:8080/"
        },
        "id": "7CXdAF9GmnXW",
        "outputId": "308b8dde-5037-46e1-a9d5-e6cb8c9ada12"
      },
      "execution_count": 119,
      "outputs": [
        {
          "output_type": "execute_result",
          "data": {
            "text/plain": [
              "Grade 1     3570\n",
              "Grade 2     7650\n",
              "Grade 3    14097\n",
              "Grade 4    20650\n",
              "Grade 5    24869\n",
              "Name: damage_grade, dtype: int64"
            ]
          },
          "metadata": {},
          "execution_count": 119
        }
      ]
    },
    {
      "cell_type": "markdown",
      "source": [
        "Creates a new target column `\"severe_damage\"`. For buildings where the `\"damage_grade\"` is Grade 4 or above, `\"severe_damage\"` should be `1`. For all other buildings, `\"severe_damage\"` should be `0`."
      ],
      "metadata": {
        "id": "QnyP1EIyHeIZ"
      }
    },
    {
      "cell_type": "code",
      "source": [
        "df[\"damage_grade\"] = df[\"damage_grade\"].str[-1].astype(int)\n",
        "df[\"severe_damage\"] = (df[\"damage_grade\"] > 3).astype(int)"
      ],
      "metadata": {
        "id": "Me4TIAHomrCh"
      },
      "execution_count": 120,
      "outputs": []
    },
    {
      "cell_type": "code",
      "source": [
        "# Set \"building_id\" as index and drop those unnecessary columns \n",
        "df.drop(columns = [\"b_id\", \"damage_grade\"], inplace = True)\n",
        "df = df.set_index(\"building_id\")\n",
        "df.head()"
      ],
      "metadata": {
        "colab": {
          "base_uri": "https://localhost:8080/",
          "height": 388
        },
        "id": "HGOoigoYMIFe",
        "outputId": "2dbbffba-b295-41c9-a790-d8fe1a2ea0c8"
      },
      "execution_count": 121,
      "outputs": [
        {
          "output_type": "execute_result",
          "data": {
            "text/plain": [
              "             count_floors_pre_eq  count_floors_post_eq  age_building  \\\n",
              "building_id                                                            \n",
              "164002                         3                     3            20   \n",
              "164081                         2                     2            21   \n",
              "164089                         3                     3            18   \n",
              "164098                         2                     2            45   \n",
              "164103                         2                     2            21   \n",
              "\n",
              "             plinth_area_sq_ft  height_ft_pre_eq  height_ft_post_eq  \\\n",
              "building_id                                                           \n",
              "164002                     560                18                 18   \n",
              "164081                     200                12                 12   \n",
              "164089                     315                20                 20   \n",
              "164098                     290                13                 13   \n",
              "164103                     230                13                 13   \n",
              "\n",
              "            land_surface_condition         foundation_type  \\\n",
              "building_id                                                  \n",
              "164002                        Flat  Mud mortar-Stone/Brick   \n",
              "164081                        Flat  Mud mortar-Stone/Brick   \n",
              "164089                        Flat  Mud mortar-Stone/Brick   \n",
              "164098                        Flat  Mud mortar-Stone/Brick   \n",
              "164103                        Flat  Mud mortar-Stone/Brick   \n",
              "\n",
              "                            roof_type ground_floor_type   other_floor_type  \\\n",
              "building_id                                                                  \n",
              "164002       Bamboo/Timber-Light roof               Mud  TImber/Bamboo-Mud   \n",
              "164081       Bamboo/Timber-Light roof               Mud  TImber/Bamboo-Mud   \n",
              "164089       Bamboo/Timber-Light roof               Mud  TImber/Bamboo-Mud   \n",
              "164098       Bamboo/Timber-Light roof               Mud  TImber/Bamboo-Mud   \n",
              "164103       Bamboo/Timber-Light roof               Mud  TImber/Bamboo-Mud   \n",
              "\n",
              "                 position plan_configuration          condition_post_eq  \\\n",
              "building_id                                                               \n",
              "164002       Not attached        Rectangular  Damaged-Repaired and used   \n",
              "164081       Not attached        Rectangular       Damaged-Used in risk   \n",
              "164089       Not attached        Rectangular       Damaged-Used in risk   \n",
              "164098       Not attached        Rectangular       Damaged-Used in risk   \n",
              "164103       Not attached        Rectangular       Damaged-Used in risk   \n",
              "\n",
              "                superstructure  severe_damage  \n",
              "building_id                                    \n",
              "164002       Stone, mud mortar              0  \n",
              "164081       Stone, mud mortar              0  \n",
              "164089       Stone, mud mortar              0  \n",
              "164098       Stone, mud mortar              0  \n",
              "164103       Stone, mud mortar              0  "
            ],
            "text/html": [
              "\n",
              "  <div id=\"df-b262ddb1-4244-4c14-82ec-810cb004f067\">\n",
              "    <div class=\"colab-df-container\">\n",
              "      <div>\n",
              "<style scoped>\n",
              "    .dataframe tbody tr th:only-of-type {\n",
              "        vertical-align: middle;\n",
              "    }\n",
              "\n",
              "    .dataframe tbody tr th {\n",
              "        vertical-align: top;\n",
              "    }\n",
              "\n",
              "    .dataframe thead th {\n",
              "        text-align: right;\n",
              "    }\n",
              "</style>\n",
              "<table border=\"1\" class=\"dataframe\">\n",
              "  <thead>\n",
              "    <tr style=\"text-align: right;\">\n",
              "      <th></th>\n",
              "      <th>count_floors_pre_eq</th>\n",
              "      <th>count_floors_post_eq</th>\n",
              "      <th>age_building</th>\n",
              "      <th>plinth_area_sq_ft</th>\n",
              "      <th>height_ft_pre_eq</th>\n",
              "      <th>height_ft_post_eq</th>\n",
              "      <th>land_surface_condition</th>\n",
              "      <th>foundation_type</th>\n",
              "      <th>roof_type</th>\n",
              "      <th>ground_floor_type</th>\n",
              "      <th>other_floor_type</th>\n",
              "      <th>position</th>\n",
              "      <th>plan_configuration</th>\n",
              "      <th>condition_post_eq</th>\n",
              "      <th>superstructure</th>\n",
              "      <th>severe_damage</th>\n",
              "    </tr>\n",
              "    <tr>\n",
              "      <th>building_id</th>\n",
              "      <th></th>\n",
              "      <th></th>\n",
              "      <th></th>\n",
              "      <th></th>\n",
              "      <th></th>\n",
              "      <th></th>\n",
              "      <th></th>\n",
              "      <th></th>\n",
              "      <th></th>\n",
              "      <th></th>\n",
              "      <th></th>\n",
              "      <th></th>\n",
              "      <th></th>\n",
              "      <th></th>\n",
              "      <th></th>\n",
              "      <th></th>\n",
              "    </tr>\n",
              "  </thead>\n",
              "  <tbody>\n",
              "    <tr>\n",
              "      <th>164002</th>\n",
              "      <td>3</td>\n",
              "      <td>3</td>\n",
              "      <td>20</td>\n",
              "      <td>560</td>\n",
              "      <td>18</td>\n",
              "      <td>18</td>\n",
              "      <td>Flat</td>\n",
              "      <td>Mud mortar-Stone/Brick</td>\n",
              "      <td>Bamboo/Timber-Light roof</td>\n",
              "      <td>Mud</td>\n",
              "      <td>TImber/Bamboo-Mud</td>\n",
              "      <td>Not attached</td>\n",
              "      <td>Rectangular</td>\n",
              "      <td>Damaged-Repaired and used</td>\n",
              "      <td>Stone, mud mortar</td>\n",
              "      <td>0</td>\n",
              "    </tr>\n",
              "    <tr>\n",
              "      <th>164081</th>\n",
              "      <td>2</td>\n",
              "      <td>2</td>\n",
              "      <td>21</td>\n",
              "      <td>200</td>\n",
              "      <td>12</td>\n",
              "      <td>12</td>\n",
              "      <td>Flat</td>\n",
              "      <td>Mud mortar-Stone/Brick</td>\n",
              "      <td>Bamboo/Timber-Light roof</td>\n",
              "      <td>Mud</td>\n",
              "      <td>TImber/Bamboo-Mud</td>\n",
              "      <td>Not attached</td>\n",
              "      <td>Rectangular</td>\n",
              "      <td>Damaged-Used in risk</td>\n",
              "      <td>Stone, mud mortar</td>\n",
              "      <td>0</td>\n",
              "    </tr>\n",
              "    <tr>\n",
              "      <th>164089</th>\n",
              "      <td>3</td>\n",
              "      <td>3</td>\n",
              "      <td>18</td>\n",
              "      <td>315</td>\n",
              "      <td>20</td>\n",
              "      <td>20</td>\n",
              "      <td>Flat</td>\n",
              "      <td>Mud mortar-Stone/Brick</td>\n",
              "      <td>Bamboo/Timber-Light roof</td>\n",
              "      <td>Mud</td>\n",
              "      <td>TImber/Bamboo-Mud</td>\n",
              "      <td>Not attached</td>\n",
              "      <td>Rectangular</td>\n",
              "      <td>Damaged-Used in risk</td>\n",
              "      <td>Stone, mud mortar</td>\n",
              "      <td>0</td>\n",
              "    </tr>\n",
              "    <tr>\n",
              "      <th>164098</th>\n",
              "      <td>2</td>\n",
              "      <td>2</td>\n",
              "      <td>45</td>\n",
              "      <td>290</td>\n",
              "      <td>13</td>\n",
              "      <td>13</td>\n",
              "      <td>Flat</td>\n",
              "      <td>Mud mortar-Stone/Brick</td>\n",
              "      <td>Bamboo/Timber-Light roof</td>\n",
              "      <td>Mud</td>\n",
              "      <td>TImber/Bamboo-Mud</td>\n",
              "      <td>Not attached</td>\n",
              "      <td>Rectangular</td>\n",
              "      <td>Damaged-Used in risk</td>\n",
              "      <td>Stone, mud mortar</td>\n",
              "      <td>0</td>\n",
              "    </tr>\n",
              "    <tr>\n",
              "      <th>164103</th>\n",
              "      <td>2</td>\n",
              "      <td>2</td>\n",
              "      <td>21</td>\n",
              "      <td>230</td>\n",
              "      <td>13</td>\n",
              "      <td>13</td>\n",
              "      <td>Flat</td>\n",
              "      <td>Mud mortar-Stone/Brick</td>\n",
              "      <td>Bamboo/Timber-Light roof</td>\n",
              "      <td>Mud</td>\n",
              "      <td>TImber/Bamboo-Mud</td>\n",
              "      <td>Not attached</td>\n",
              "      <td>Rectangular</td>\n",
              "      <td>Damaged-Used in risk</td>\n",
              "      <td>Stone, mud mortar</td>\n",
              "      <td>0</td>\n",
              "    </tr>\n",
              "  </tbody>\n",
              "</table>\n",
              "</div>\n",
              "      <button class=\"colab-df-convert\" onclick=\"convertToInteractive('df-b262ddb1-4244-4c14-82ec-810cb004f067')\"\n",
              "              title=\"Convert this dataframe to an interactive table.\"\n",
              "              style=\"display:none;\">\n",
              "        \n",
              "  <svg xmlns=\"http://www.w3.org/2000/svg\" height=\"24px\"viewBox=\"0 0 24 24\"\n",
              "       width=\"24px\">\n",
              "    <path d=\"M0 0h24v24H0V0z\" fill=\"none\"/>\n",
              "    <path d=\"M18.56 5.44l.94 2.06.94-2.06 2.06-.94-2.06-.94-.94-2.06-.94 2.06-2.06.94zm-11 1L8.5 8.5l.94-2.06 2.06-.94-2.06-.94L8.5 2.5l-.94 2.06-2.06.94zm10 10l.94 2.06.94-2.06 2.06-.94-2.06-.94-.94-2.06-.94 2.06-2.06.94z\"/><path d=\"M17.41 7.96l-1.37-1.37c-.4-.4-.92-.59-1.43-.59-.52 0-1.04.2-1.43.59L10.3 9.45l-7.72 7.72c-.78.78-.78 2.05 0 2.83L4 21.41c.39.39.9.59 1.41.59.51 0 1.02-.2 1.41-.59l7.78-7.78 2.81-2.81c.8-.78.8-2.07 0-2.86zM5.41 20L4 18.59l7.72-7.72 1.47 1.35L5.41 20z\"/>\n",
              "  </svg>\n",
              "      </button>\n",
              "      \n",
              "  <style>\n",
              "    .colab-df-container {\n",
              "      display:flex;\n",
              "      flex-wrap:wrap;\n",
              "      gap: 12px;\n",
              "    }\n",
              "\n",
              "    .colab-df-convert {\n",
              "      background-color: #E8F0FE;\n",
              "      border: none;\n",
              "      border-radius: 50%;\n",
              "      cursor: pointer;\n",
              "      display: none;\n",
              "      fill: #1967D2;\n",
              "      height: 32px;\n",
              "      padding: 0 0 0 0;\n",
              "      width: 32px;\n",
              "    }\n",
              "\n",
              "    .colab-df-convert:hover {\n",
              "      background-color: #E2EBFA;\n",
              "      box-shadow: 0px 1px 2px rgba(60, 64, 67, 0.3), 0px 1px 3px 1px rgba(60, 64, 67, 0.15);\n",
              "      fill: #174EA6;\n",
              "    }\n",
              "\n",
              "    [theme=dark] .colab-df-convert {\n",
              "      background-color: #3B4455;\n",
              "      fill: #D2E3FC;\n",
              "    }\n",
              "\n",
              "    [theme=dark] .colab-df-convert:hover {\n",
              "      background-color: #434B5C;\n",
              "      box-shadow: 0px 1px 3px 1px rgba(0, 0, 0, 0.15);\n",
              "      filter: drop-shadow(0px 1px 2px rgba(0, 0, 0, 0.3));\n",
              "      fill: #FFFFFF;\n",
              "    }\n",
              "  </style>\n",
              "\n",
              "      <script>\n",
              "        const buttonEl =\n",
              "          document.querySelector('#df-b262ddb1-4244-4c14-82ec-810cb004f067 button.colab-df-convert');\n",
              "        buttonEl.style.display =\n",
              "          google.colab.kernel.accessAllowed ? 'block' : 'none';\n",
              "\n",
              "        async function convertToInteractive(key) {\n",
              "          const element = document.querySelector('#df-b262ddb1-4244-4c14-82ec-810cb004f067');\n",
              "          const dataTable =\n",
              "            await google.colab.kernel.invokeFunction('convertToInteractive',\n",
              "                                                     [key], {});\n",
              "          if (!dataTable) return;\n",
              "\n",
              "          const docLinkHtml = 'Like what you see? Visit the ' +\n",
              "            '<a target=\"_blank\" href=https://colab.research.google.com/notebooks/data_table.ipynb>data table notebook</a>'\n",
              "            + ' to learn more about interactive tables.';\n",
              "          element.innerHTML = '';\n",
              "          dataTable['output_type'] = 'display_data';\n",
              "          await google.colab.output.renderOutput(dataTable, element);\n",
              "          const docLink = document.createElement('div');\n",
              "          docLink.innerHTML = docLinkHtml;\n",
              "          element.appendChild(docLink);\n",
              "        }\n",
              "      </script>\n",
              "    </div>\n",
              "  </div>\n",
              "  "
            ]
          },
          "metadata": {},
          "execution_count": 121
        }
      ]
    },
    {
      "cell_type": "markdown",
      "source": [
        "# 2. EDA (Exploratory Data Analysis)"
      ],
      "metadata": {
        "id": "3WSth5CjnD6h"
      }
    },
    {
      "cell_type": "code",
      "source": [
        "# Drop leaky features\n",
        "# Those features with \"post\" are likely to be leaky featyres since those features happen after the earthquake.\n",
        "df.drop(columns = [\"count_floors_post_eq\", \"height_ft_post_eq\", \"condition_post_eq\"], inplace = True)"
      ],
      "metadata": {
        "id": "tDmkFW4LOkZx"
      },
      "execution_count": 122,
      "outputs": []
    },
    {
      "cell_type": "markdown",
      "source": [
        "Check correlation features"
      ],
      "metadata": {
        "id": "WYnvP2slUS3i"
      }
    },
    {
      "cell_type": "code",
      "source": [
        "# Create correlation matrix\n",
        "correlation = df.select_dtypes(\"number\").drop(columns = \"severe_damage\").corr()\n",
        "# Plot heatmap of `correlation`\n",
        "sns.heatmap(correlation)"
      ],
      "metadata": {
        "colab": {
          "base_uri": "https://localhost:8080/",
          "height": 376
        },
        "id": "WpcLzcwinGjp",
        "outputId": "b64a207c-d823-434c-dc12-b30b8e1288b8"
      },
      "execution_count": 123,
      "outputs": [
        {
          "output_type": "execute_result",
          "data": {
            "text/plain": [
              "<matplotlib.axes._subplots.AxesSubplot at 0x7fb7cf4c63a0>"
            ]
          },
          "metadata": {},
          "execution_count": 123
        },
        {
          "output_type": "display_data",
          "data": {
            "text/plain": [
              "<Figure size 432x288 with 2 Axes>"
            ],
            "image/png": "[encoded data removed]"
          },
          "metadata": {
            "needs_background": "light"
          }
        }
      ]
    },
    {
      "cell_type": "markdown",
      "source": [
        "We saw that the correlation coefficient between `\"count_floors_pre_eq\"` and `\"height_ft_pre_eq\"` is nearly 1 so we only need one of those so I will decide to drop one of those but the question is `Which one`"
      ],
      "metadata": {
        "id": "dRHESn7gNjEJ"
      }
    },
    {
      "cell_type": "code",
      "source": [
        "corr_count_floors_pre_eq = df[\"severe_damage\"].corr(df[\"count_floors_pre_eq\"])\n",
        "corr_height_ft_pre_eq = df[\"severe_damage\"].corr(df[\"height_ft_pre_eq\"])\n",
        "print(f\"The corelation coefficient between count_floors_pre_eq and severe_damage: {corr_count_floors_pre_eq}\")\n",
        "print(f\"The corelation coefficient between height_ft_pre_eq and severe_damage: {corr_height_ft_pre_eq}\")"
      ],
      "metadata": {
        "colab": {
          "base_uri": "https://localhost:8080/"
        },
        "id": "u6zD_DTYP8UW",
        "outputId": "853781f3-8317-4836-aa27-6291f750a379"
      },
      "execution_count": 124,
      "outputs": [
        {
          "output_type": "stream",
          "name": "stdout",
          "text": [
            "The corelation coefficient between count_floors_pre_eq and severe_damage: 0.002892630372575261\n",
            "The corelation coefficient between height_ft_pre_eq and severe_damage: -0.03847659083302044\n"
          ]
        }
      ]
    },
    {
      "cell_type": "markdown",
      "source": [
        "It can be seen that the corelation coefficient between `\"count_floors_pre_eq\"` and `\"severe_damage\"` is smaller so I will drop this feature"
      ],
      "metadata": {
        "id": "a6ZGSqgcRECG"
      }
    },
    {
      "cell_type": "code",
      "source": [
        "df.drop(columns = \"count_floors_pre_eq\", inplace = True)"
      ],
      "metadata": {
        "id": "BkYTSbBQRVvk"
      },
      "execution_count": 125,
      "outputs": []
    },
    {
      "cell_type": "markdown",
      "source": [
        " Is there a relationship between the footprint size of a building and the damage it sustained in the earthquake"
      ],
      "metadata": {
        "id": "-7Va1a9UTJYa"
      }
    },
    {
      "cell_type": "code",
      "source": [
        "sns.boxplot(x = \"severe_damage\", y = \"plinth_area_sq_ft\", data = df)\n",
        "plt.xlabel(\"Severe Damage\")\n",
        "plt.ylabel(\"Plinth Area [sq. ft.]\")\n",
        "plt.title(\"Plinth Area vs Building Damage\")"
      ],
      "metadata": {
        "colab": {
          "base_uri": "https://localhost:8080/",
          "height": 312
        },
        "id": "aO5pqSELTExP",
        "outputId": "e38b5648-1af9-4144-ba9d-c30c7f4cdb9a"
      },
      "execution_count": 126,
      "outputs": [
        {
          "output_type": "execute_result",
          "data": {
            "text/plain": [
              "Text(0.5, 1.0, 'Plinth Area vs Building Damage')"
            ]
          },
          "metadata": {},
          "execution_count": 126
        },
        {
          "output_type": "display_data",
          "data": {
            "text/plain": [
              "<Figure size 432x288 with 1 Axes>"
            ],
            "image/png": "[encoded data removed]"
          },
          "metadata": {
            "needs_background": "light"
          }
        }
      ]
    },
    {
      "cell_type": "code",
      "source": [
        "majority_class_prop, minority_class_prop = df[\"severe_damage\"].value_counts(\n",
        "    normalize = True)\n",
        "print(majority_class_prop, minority_class_prop)"
      ],
      "metadata": {
        "colab": {
          "base_uri": "https://localhost:8080/"
        },
        "id": "ZkN2eGvsUg1a",
        "outputId": "da2e42b7-638a-4121-92de-c715a0e2d146"
      },
      "execution_count": 127,
      "outputs": [
        {
          "output_type": "stream",
          "name": "stdout",
          "text": [
            "0.6425969845841097 0.3574030154158902\n"
          ]
        }
      ]
    },
    {
      "cell_type": "code",
      "source": [
        "# Plot value counts of `\"severe_damage\"`\n",
        "df[\"severe_damage\"].value_counts(normalize = True).plot(\n",
        "\tkind = \"bar\", xlabel = \"Class\", ylabel = \"Relative Frequency\", title = \"Class Balance\"\n",
        ")"
      ],
      "metadata": {
        "colab": {
          "base_uri": "https://localhost:8080/",
          "height": 309
        },
        "id": "r8GAp6JuSfgg",
        "outputId": "023e38dd-fb83-43ed-d0b4-4e6e350a2be4"
      },
      "execution_count": 128,
      "outputs": [
        {
          "output_type": "execute_result",
          "data": {
            "text/plain": [
              "<matplotlib.axes._subplots.AxesSubplot at 0x7fb7d795d7f0>"
            ]
          },
          "metadata": {},
          "execution_count": 128
        },
        {
          "output_type": "display_data",
          "data": {
            "text/plain": [
              "<Figure size 432x288 with 1 Axes>"
            ],
            "image/png": "[encoded data removed]"
          },
          "metadata": {
            "needs_background": "light"
          }
        }
      ]
    },
    {
      "cell_type": "markdown",
      "source": [
        "Are buildings with certain foundation types more likely to suffer severe damage? "
      ],
      "metadata": {
        "id": "qLwo7WRuSuMJ"
      }
    },
    {
      "cell_type": "code",
      "source": [
        "# Create pivot table\n",
        "foundation_pivot = pd.pivot_table(\n",
        "\tdf, index = \"foundation_type\", values = \"severe_damage\", aggfunc = np.mean\n",
        ").sort_values(by = \"severe_damage\")\n",
        "foundation_pivot"
      ],
      "metadata": {
        "colab": {
          "base_uri": "https://localhost:8080/",
          "height": 237
        },
        "id": "DWU5ErmrSrHH",
        "outputId": "4cb95ccf-71de-4c01-d40f-f2afc888ca0f"
      },
      "execution_count": 129,
      "outputs": [
        {
          "output_type": "execute_result",
          "data": {
            "text/plain": [
              "                        severe_damage\n",
              "foundation_type                      \n",
              "RC                           0.026224\n",
              "Bamboo/Timber                0.324074\n",
              "Cement-Stone/Brick           0.421908\n",
              "Mud mortar-Stone/Brick       0.687792\n",
              "Other                        0.818898"
            ],
            "text/html": [
              "\n",
              "  <div id=\"df-0afa8acc-dc68-44af-9c31-62d914a81dce\">\n",
              "    <div class=\"colab-df-container\">\n",
              "      <div>\n",
              "<style scoped>\n",
              "    .dataframe tbody tr th:only-of-type {\n",
              "        vertical-align: middle;\n",
              "    }\n",
              "\n",
              "    .dataframe tbody tr th {\n",
              "        vertical-align: top;\n",
              "    }\n",
              "\n",
              "    .dataframe thead th {\n",
              "        text-align: right;\n",
              "    }\n",
              "</style>\n",
              "<table border=\"1\" class=\"dataframe\">\n",
              "  <thead>\n",
              "    <tr style=\"text-align: right;\">\n",
              "      <th></th>\n",
              "      <th>severe_damage</th>\n",
              "    </tr>\n",
              "    <tr>\n",
              "      <th>foundation_type</th>\n",
              "      <th></th>\n",
              "    </tr>\n",
              "  </thead>\n",
              "  <tbody>\n",
              "    <tr>\n",
              "      <th>RC</th>\n",
              "      <td>0.026224</td>\n",
              "    </tr>\n",
              "    <tr>\n",
              "      <th>Bamboo/Timber</th>\n",
              "      <td>0.324074</td>\n",
              "    </tr>\n",
              "    <tr>\n",
              "      <th>Cement-Stone/Brick</th>\n",
              "      <td>0.421908</td>\n",
              "    </tr>\n",
              "    <tr>\n",
              "      <th>Mud mortar-Stone/Brick</th>\n",
              "      <td>0.687792</td>\n",
              "    </tr>\n",
              "    <tr>\n",
              "      <th>Other</th>\n",
              "      <td>0.818898</td>\n",
              "    </tr>\n",
              "  </tbody>\n",
              "</table>\n",
              "</div>\n",
              "      <button class=\"colab-df-convert\" onclick=\"convertToInteractive('df-0afa8acc-dc68-44af-9c31-62d914a81dce')\"\n",
              "              title=\"Convert this dataframe to an interactive table.\"\n",
              "              style=\"display:none;\">\n",
              "        \n",
              "  <svg xmlns=\"http://www.w3.org/2000/svg\" height=\"24px\"viewBox=\"0 0 24 24\"\n",
              "       width=\"24px\">\n",
              "    <path d=\"M0 0h24v24H0V0z\" fill=\"none\"/>\n",
              "    <path d=\"M18.56 5.44l.94 2.06.94-2.06 2.06-.94-2.06-.94-.94-2.06-.94 2.06-2.06.94zm-11 1L8.5 8.5l.94-2.06 2.06-.94-2.06-.94L8.5 2.5l-.94 2.06-2.06.94zm10 10l.94 2.06.94-2.06 2.06-.94-2.06-.94-.94-2.06-.94 2.06-2.06.94z\"/><path d=\"M17.41 7.96l-1.37-1.37c-.4-.4-.92-.59-1.43-.59-.52 0-1.04.2-1.43.59L10.3 9.45l-7.72 7.72c-.78.78-.78 2.05 0 2.83L4 21.41c.39.39.9.59 1.41.59.51 0 1.02-.2 1.41-.59l7.78-7.78 2.81-2.81c.8-.78.8-2.07 0-2.86zM5.41 20L4 18.59l7.72-7.72 1.47 1.35L5.41 20z\"/>\n",
              "  </svg>\n",
              "      </button>\n",
              "      \n",
              "  <style>\n",
              "    .colab-df-container {\n",
              "      display:flex;\n",
              "      flex-wrap:wrap;\n",
              "      gap: 12px;\n",
              "    }\n",
              "\n",
              "    .colab-df-convert {\n",
              "      background-color: #E8F0FE;\n",
              "      border: none;\n",
              "      border-radius: 50%;\n",
              "      cursor: pointer;\n",
              "      display: none;\n",
              "      fill: #1967D2;\n",
              "      height: 32px;\n",
              "      padding: 0 0 0 0;\n",
              "      width: 32px;\n",
              "    }\n",
              "\n",
              "    .colab-df-convert:hover {\n",
              "      background-color: #E2EBFA;\n",
              "      box-shadow: 0px 1px 2px rgba(60, 64, 67, 0.3), 0px 1px 3px 1px rgba(60, 64, 67, 0.15);\n",
              "      fill: #174EA6;\n",
              "    }\n",
              "\n",
              "    [theme=dark] .colab-df-convert {\n",
              "      background-color: #3B4455;\n",
              "      fill: #D2E3FC;\n",
              "    }\n",
              "\n",
              "    [theme=dark] .colab-df-convert:hover {\n",
              "      background-color: #434B5C;\n",
              "      box-shadow: 0px 1px 3px 1px rgba(0, 0, 0, 0.15);\n",
              "      filter: drop-shadow(0px 1px 2px rgba(0, 0, 0, 0.3));\n",
              "      fill: #FFFFFF;\n",
              "    }\n",
              "  </style>\n",
              "\n",
              "      <script>\n",
              "        const buttonEl =\n",
              "          document.querySelector('#df-0afa8acc-dc68-44af-9c31-62d914a81dce button.colab-df-convert');\n",
              "        buttonEl.style.display =\n",
              "          google.colab.kernel.accessAllowed ? 'block' : 'none';\n",
              "\n",
              "        async function convertToInteractive(key) {\n",
              "          const element = document.querySelector('#df-0afa8acc-dc68-44af-9c31-62d914a81dce');\n",
              "          const dataTable =\n",
              "            await google.colab.kernel.invokeFunction('convertToInteractive',\n",
              "                                                     [key], {});\n",
              "          if (!dataTable) return;\n",
              "\n",
              "          const docLinkHtml = 'Like what you see? Visit the ' +\n",
              "            '<a target=\"_blank\" href=https://colab.research.google.com/notebooks/data_table.ipynb>data table notebook</a>'\n",
              "            + ' to learn more about interactive tables.';\n",
              "          element.innerHTML = '';\n",
              "          dataTable['output_type'] = 'display_data';\n",
              "          await google.colab.output.renderOutput(dataTable, element);\n",
              "          const docLink = document.createElement('div');\n",
              "          docLink.innerHTML = docLinkHtml;\n",
              "          element.appendChild(docLink);\n",
              "        }\n",
              "      </script>\n",
              "    </div>\n",
              "  </div>\n",
              "  "
            ]
          },
          "metadata": {},
          "execution_count": 129
        }
      ]
    },
    {
      "cell_type": "code",
      "source": [
        "# Plot bar chart of `foundation_pivot`\n",
        "foundation_pivot.plot(kind = \"barh\", legend = None)\n",
        "plt.axvline(\n",
        "\tmajority_class_prop, linestyle = \"--\", color = \"red\", label = \"majority class\"\n",
        ")\n",
        "plt.axvline(\n",
        "\tminority_class_prop, linestyle = \"--\", color = \"green\", label = \"minority class\"\n",
        ")\n",
        "plt.legend(loc = \"lower right\")"
      ],
      "metadata": {
        "colab": {
          "base_uri": "https://localhost:8080/",
          "height": 282
        },
        "id": "cu_yPWCsUX53",
        "outputId": "4713872f-a3f6-4fc7-9c23-757d47dacd04"
      },
      "execution_count": 130,
      "outputs": [
        {
          "output_type": "execute_result",
          "data": {
            "text/plain": [
              "<matplotlib.legend.Legend at 0x7fb7d63fd6d0>"
            ]
          },
          "metadata": {},
          "execution_count": 130
        },
        {
          "output_type": "display_data",
          "data": {
            "text/plain": [
              "<Figure size 432x288 with 1 Axes>"
            ],
            "image/png": "[encoded data removed]"
          },
          "metadata": {
            "needs_background": "light"
          }
        }
      ]
    },
    {
      "cell_type": "markdown",
      "source": [
        "Checking High-Cardinality, Low-Cardinality features"
      ],
      "metadata": {
        "id": "hbPqQ4ezUlbq"
      }
    },
    {
      "cell_type": "code",
      "source": [
        "# Check for high- and low-cardinality categorical features\n",
        "df.select_dtypes(\"object\").nunique()"
      ],
      "metadata": {
        "colab": {
          "base_uri": "https://localhost:8080/"
        },
        "id": "L5suRMEiUjN-",
        "outputId": "025d8400-929e-42b0-8a0d-b5aac85cf704"
      },
      "execution_count": 131,
      "outputs": [
        {
          "output_type": "execute_result",
          "data": {
            "text/plain": [
              "land_surface_condition     3\n",
              "foundation_type            5\n",
              "roof_type                  3\n",
              "ground_floor_type          5\n",
              "other_floor_type           4\n",
              "position                   4\n",
              "plan_configuration        10\n",
              "superstructure            11\n",
              "dtype: int64"
            ]
          },
          "metadata": {},
          "execution_count": 131
        }
      ]
    },
    {
      "cell_type": "markdown",
      "source": [
        "# 3. Split Data"
      ],
      "metadata": {
        "id": "RYpPcLHGTTKQ"
      }
    },
    {
      "cell_type": "code",
      "source": [
        "# Split feature columns and label \n",
        "target = \"severe_damage\"\n",
        "X = df.drop(columns = [target])\n",
        "y = df[target]\n",
        "print(\"X shape:\", X.shape)\n",
        "print(\"y shape:\", y.shape)"
      ],
      "metadata": {
        "colab": {
          "base_uri": "https://localhost:8080/"
        },
        "id": "99ZIeBprTU0f",
        "outputId": "1a1a799e-098b-41f7-a7a0-fcc259b3efbf"
      },
      "execution_count": 132,
      "outputs": [
        {
          "output_type": "stream",
          "name": "stdout",
          "text": [
            "X shape: (70836, 11)\n",
            "y shape: (70836,)\n"
          ]
        }
      ]
    },
    {
      "cell_type": "code",
      "source": [
        "X_train, X_test, y_train, y_test = train_test_split(X_train, y_train, test_size = 0.2, random_state = 42)"
      ],
      "metadata": {
        "id": "EGHb77KlZLE5"
      },
      "execution_count": 133,
      "outputs": []
    },
    {
      "cell_type": "code",
      "source": [
        "X_train, X_val, y_train, y_val = train_test_split(\n",
        "    X, y, test_size = 0.2, random_state = 42)\n",
        "print(\"X_train shape:\", X_train.shape)\n",
        "print(\"y_train shape:\", y_train.shape)\n",
        "print(\"X_test shape:\", X_test.shape)\n",
        "print(\"y_test shape:\", y_test.shape)"
      ],
      "metadata": {
        "colab": {
          "base_uri": "https://localhost:8080/"
        },
        "id": "6LKwSfz_UE0R",
        "outputId": "212c56a1-ed95-4283-d50d-02e31f3c4fca"
      },
      "execution_count": 134,
      "outputs": [
        {
          "output_type": "stream",
          "name": "stdout",
          "text": [
            "X_train shape: (56668, 11)\n",
            "y_train shape: (56668,)\n",
            "X_test shape: (11334, 11)\n",
            "y_test shape: (11334,)\n"
          ]
        }
      ]
    },
    {
      "cell_type": "markdown",
      "source": [
        "# 4. Logistic Regression"
      ],
      "metadata": {
        "id": "Zow2QAS8VlIM"
      }
    },
    {
      "cell_type": "markdown",
      "source": [
        "### Baseline"
      ],
      "metadata": {
        "id": "jyAACW1xVs4i"
      }
    },
    {
      "cell_type": "code",
      "source": [
        "acc_baseline = y.value_counts(normalize = True).max()\n",
        "print(\"Baseline Accuracy:\", round(acc_baseline, 2))"
      ],
      "metadata": {
        "colab": {
          "base_uri": "https://localhost:8080/"
        },
        "id": "TEgwe7MXVnmS",
        "outputId": "397576b1-768c-446b-ab1e-d6053bdba098"
      },
      "execution_count": 135,
      "outputs": [
        {
          "output_type": "stream",
          "name": "stdout",
          "text": [
            "Baseline Accuracy: 0.64\n"
          ]
        }
      ]
    },
    {
      "cell_type": "markdown",
      "source": [
        "### Iterate"
      ],
      "metadata": {
        "id": "ZcUX65wFVz8H"
      }
    },
    {
      "cell_type": "code",
      "source": [
        "model_lr = make_pipeline(OneHotEncoder(use_cat_names = True), LogisticRegression(max_iter = 1000))\n",
        "model_lr.fit(X_train, y_train)"
      ],
      "metadata": {
        "colab": {
          "base_uri": "https://localhost:8080/"
        },
        "id": "ni0nalm2V3JV",
        "outputId": "a7b3e0c8-2b72-4444-b7cb-bb231b6b96b8"
      },
      "execution_count": 136,
      "outputs": [
        {
          "output_type": "execute_result",
          "data": {
            "text/plain": [
              "Pipeline(steps=[('onehotencoder',\n",
              "                 OneHotEncoder(cols=['land_surface_condition',\n",
              "                                     'foundation_type', 'roof_type',\n",
              "                                     'ground_floor_type', 'other_floor_type',\n",
              "                                     'position', 'plan_configuration',\n",
              "                                     'superstructure'],\n",
              "                               use_cat_names=True)),\n",
              "                ('logisticregression', LogisticRegression(max_iter=1000))])"
            ]
          },
          "metadata": {},
          "execution_count": 136
        }
      ]
    },
    {
      "cell_type": "code",
      "source": [
        "lr_train_acc = accuracy_score(y_train, model_lr.predict(X_train))\n",
        "lr_val_acc = accuracy_score(y_val, model_lr.predict(X_val))\n",
        "\n",
        "print(\"Logistic Regression, Training Accuracy Score:\", lr_train_acc)\n",
        "print(\"Logistic Regression, Validation Accuracy Score:\", lr_val_acc)"
      ],
      "metadata": {
        "colab": {
          "base_uri": "https://localhost:8080/"
        },
        "id": "QPUpoc_OW9oF",
        "outputId": "bd6e2453-fb1b-4c56-8d55-bfd28719741c"
      },
      "execution_count": 137,
      "outputs": [
        {
          "output_type": "stream",
          "name": "stdout",
          "text": [
            "Logistic Regression, Training Accuracy Score: 0.7137185007411591\n",
            "Logistic Regression, Validation Accuracy Score: 0.7224025974025974\n"
          ]
        }
      ]
    },
    {
      "cell_type": "markdown",
      "source": [
        "# 5. Decision Tree"
      ],
      "metadata": {
        "id": "jdBJHVRjXfwr"
      }
    },
    {
      "cell_type": "markdown",
      "source": [
        "### Train model"
      ],
      "metadata": {
        "id": "LM7dbFgtYKPD"
      }
    },
    {
      "cell_type": "code",
      "source": [
        "# Build Model\n",
        "model = make_pipeline(OrdinalEncoder(), DecisionTreeClassifier(random_state = 42))\n",
        "# Fit model to training data\n",
        "model.fit(X_train, y_train)"
      ],
      "metadata": {
        "colab": {
          "base_uri": "https://localhost:8080/"
        },
        "id": "dYGSjHD2Xhsl",
        "outputId": "7647ac50-49c5-46a1-c793-e7acf9c90667"
      },
      "execution_count": 138,
      "outputs": [
        {
          "output_type": "execute_result",
          "data": {
            "text/plain": [
              "Pipeline(steps=[('ordinalencoder',\n",
              "                 OrdinalEncoder(cols=['land_surface_condition',\n",
              "                                      'foundation_type', 'roof_type',\n",
              "                                      'ground_floor_type', 'other_floor_type',\n",
              "                                      'position', 'plan_configuration',\n",
              "                                      'superstructure'],\n",
              "                                mapping=[{'col': 'land_surface_condition',\n",
              "                                          'data_type': dtype('O'),\n",
              "                                          'mapping': Steep slope       1\n",
              "Flat              2\n",
              "Moderate slope    3\n",
              "NaN              -2\n",
              "dtype: int64},\n",
              "                                         {'col': 'foundation_type',\n",
              "                                          'dat...\n",
              "E-shape                             8\n",
              "U-shape                             9\n",
              "Building with Central Courtyard    10\n",
              "NaN                                -2\n",
              "dtype: int64},\n",
              "                                         {'col': 'superstructure',\n",
              "                                          'data_type': dtype('O'),\n",
              "                                          'mapping': RC, non-engineered       1\n",
              "Stone, mud mortar        2\n",
              "Adobe/mud                3\n",
              "Other                    4\n",
              "Stone                    5\n",
              "RC, engineered           6\n",
              "Timber                   7\n",
              "Stone, cement mortar     8\n",
              "Brick, mud mortar        9\n",
              "Brick, cement mortar    10\n",
              "Bamboo                  11\n",
              "NaN                     -2\n",
              "dtype: int64}])),\n",
              "                ('decisiontreeclassifier',\n",
              "                 DecisionTreeClassifier(random_state=42))])"
            ]
          },
          "metadata": {},
          "execution_count": 138
        }
      ]
    },
    {
      "cell_type": "code",
      "source": [
        "acc_train = accuracy_score(y_train, model.predict(X_train))\n",
        "acc_val = accuracy_score(y_val, model.predict(X_val))\n",
        "\n",
        "print(\"Decision Tree, Training Accuracy:\", round(acc_train, 2))\n",
        "print(\"Decision Tree, Validation Accuracy:\", round(acc_val, 2))"
      ],
      "metadata": {
        "colab": {
          "base_uri": "https://localhost:8080/"
        },
        "id": "lemGqd_AXqwm",
        "outputId": "4f8c2cbd-840a-484e-990f-aaa65ce26c5d"
      },
      "execution_count": 139,
      "outputs": [
        {
          "output_type": "stream",
          "name": "stdout",
          "text": [
            "Decision Tree, Training Accuracy: 0.98\n",
            "Decision Tree, Validation Accuracy: 0.65\n"
          ]
        }
      ]
    },
    {
      "cell_type": "markdown",
      "source": [
        "### Tunning Hyperparameters"
      ],
      "metadata": {
        "id": "3b7xP2jgYFn1"
      }
    },
    {
      "cell_type": "code",
      "source": [
        "tree_depth = model.named_steps[\"decisiontreeclassifier\"].get_depth()\n",
        "print(\"Tree Depth:\", tree_depth)"
      ],
      "metadata": {
        "colab": {
          "base_uri": "https://localhost:8080/"
        },
        "id": "3HlV4DlGX13d",
        "outputId": "8fa41b03-59e5-4fd3-8c9d-88091c619086"
      },
      "execution_count": 140,
      "outputs": [
        {
          "output_type": "stream",
          "name": "stdout",
          "text": [
            "Tree Depth: 61\n"
          ]
        }
      ]
    },
    {
      "cell_type": "code",
      "source": [
        "depth_hyperparams = range(1, 70, 2)\n",
        "training_acc = []\n",
        "validation_acc = []\n",
        "\n",
        "for d in depth_hyperparams:\n",
        "    # Create model with `max_depth` of `d`\n",
        "    test_model = make_pipeline(OrdinalEncoder(), DecisionTreeClassifier(max_depth = d, random_state = 42))\n",
        "    # Fit model to training data\n",
        "    test_model.fit(X_train, y_train)\n",
        "    # Calculate training accuracy score and append to `training_acc`\n",
        "    training_acc.append(accuracy_score(y_train, test_model.predict(X_train)))\n",
        "    # Calculate validation accuracy score and append to `training_acc`\n",
        "    validation_acc.append(accuracy_score(y_val, test_model.predict(X_val)))\n",
        "\n",
        "print(\"Training Accuracy Scores:\", training_acc[:3])\n",
        "print(\"Validation Accuracy Scores:\", validation_acc[:3])"
      ],
      "metadata": {
        "colab": {
          "base_uri": "https://localhost:8080/"
        },
        "id": "TcmIcp3qX25U",
        "outputId": "d4cf35db-9e39-4d7a-972f-4a64bd4622e0"
      },
      "execution_count": 141,
      "outputs": [
        {
          "output_type": "stream",
          "name": "stdout",
          "text": [
            "Training Accuracy Scores: [0.6959659772711231, 0.7090421401849368, 0.714494953059928]\n",
            "Validation Accuracy Scores: [0.703416149068323, 0.717391304347826, 0.7216261998870694]\n"
          ]
        }
      ]
    },
    {
      "cell_type": "code",
      "source": [
        "# Plot `depth_hyperparams`, `training_acc`\n",
        "plt.plot(depth_hyperparams, training_acc, label = \"training\")\n",
        "plt.plot(depth_hyperparams, validation_acc, label = \"validation\")\n",
        "plt.xlabel(\"Max Depth\")\n",
        "plt.ylabel(\"Accuracy Score\")\n",
        "plt.legend()"
      ],
      "metadata": {
        "colab": {
          "base_uri": "https://localhost:8080/",
          "height": 296
        },
        "id": "8-8Ux1LRYa6O",
        "outputId": "7dd2e3e0-5388-47b9-815f-f8a98270cb15"
      },
      "execution_count": 142,
      "outputs": [
        {
          "output_type": "execute_result",
          "data": {
            "text/plain": [
              "<matplotlib.legend.Legend at 0x7fb7cf5d3cd0>"
            ]
          },
          "metadata": {},
          "execution_count": 142
        },
        {
          "output_type": "display_data",
          "data": {
            "text/plain": [
              "<Figure size 432x288 with 1 Axes>"
            ],
            "image/png": "[encoded data removed]"
          },
          "metadata": {
            "needs_background": "light"
          }
        }
      ]
    },
    {
      "cell_type": "markdown",
      "source": [
        "Base on my visualization I conclude that the best validation score occur when `\"max_depth\"` = 7"
      ],
      "metadata": {
        "id": "XiiX4bmoYiAq"
      }
    },
    {
      "cell_type": "code",
      "source": [
        "retrain_model = make_pipeline(OrdinalEncoder(), DecisionTreeClassifier(max_depth = 7, random_state = 42))\n",
        "retrain_model.fit(X_train, y_train)\n",
        "test_acc = accuracy_score(y_test, retrain_model.predict(X_test))\n",
        "print(\"Test Accuracy:\", round(test_acc, 2))"
      ],
      "metadata": {
        "colab": {
          "base_uri": "https://localhost:8080/"
        },
        "id": "G_Zr4_zFYt9h",
        "outputId": "11127154-bccd-4765-d19e-629ea2367ca6"
      },
      "execution_count": 143,
      "outputs": [
        {
          "output_type": "stream",
          "name": "stdout",
          "text": [
            "Test Accuracy: 0.72\n"
          ]
        }
      ]
    },
    {
      "cell_type": "markdown",
      "source": [
        "### 6. Communicate"
      ],
      "metadata": {
        "id": "LxGII8bcZbeZ"
      }
    },
    {
      "cell_type": "code",
      "source": [
        "# Create larger figure\n",
        "fig, ax = plt.subplots(figsize=(25, 12))\n",
        "# Plot tree\n",
        "plot_tree(\n",
        "    decision_tree=model.named_steps[\"decisiontreeclassifier\"],\n",
        "    feature_names=X_train.columns,\n",
        "    filled=True,  # Color leaf with class\n",
        "    rounded=True,  # Round leaf edges\n",
        "    proportion=True,  # Display proportion of classes in leaf\n",
        "    max_depth=3,  # Only display first 3 levels\n",
        "    fontsize=12,  # Enlarge font\n",
        "    ax=ax,  # Place in figure axis\n",
        ");"
      ],
      "metadata": {
        "colab": {
          "base_uri": "https://localhost:8080/",
          "height": 683
        },
        "id": "Pq58gEXLZdYD",
        "outputId": "2abcbc07-2a68-455b-ca52-08d41aac4ab8"
      },
      "execution_count": 144,
      "outputs": [
        {
          "output_type": "display_data",
          "data": {
            "text/plain": [
              "<Figure size 1800x864 with 1 Axes>"
            ],
            "image/png": "[encoded data removed]"
          },
          "metadata": {
            "needs_background": "light"
          }
        }
      ]
    },
    {
      "cell_type": "code",
      "source": [
        "features = X_train.columns\n",
        "importances = model.named_steps[\"decisiontreeclassifier\"].feature_importances_\n",
        "\n",
        "print(\"Features:\", features[:3])\n",
        "print(\"Importances:\", importances[:3])"
      ],
      "metadata": {
        "colab": {
          "base_uri": "https://localhost:8080/"
        },
        "id": "6ZG7J_0YZfJ1",
        "outputId": "5c64a681-84c5-4438-a016-f22c6a5bc9f9"
      },
      "execution_count": 145,
      "outputs": [
        {
          "output_type": "stream",
          "name": "stdout",
          "text": [
            "Features: Index(['age_building', 'plinth_area_sq_ft', 'height_ft_pre_eq'], dtype='object')\n",
            "Importances: [0.25763328 0.3643121  0.07780235]\n"
          ]
        }
      ]
    },
    {
      "cell_type": "code",
      "source": [
        "feat_imp = pd.Series(importances, index = features).sort_values()\n",
        "feat_imp.head()"
      ],
      "metadata": {
        "colab": {
          "base_uri": "https://localhost:8080/"
        },
        "id": "Y8Mk2YsFZi1x",
        "outputId": "6ea28472-5799-4673-f554-2d9be232f7c9"
      },
      "execution_count": 146,
      "outputs": [
        {
          "output_type": "execute_result",
          "data": {
            "text/plain": [
              "plan_configuration        0.014611\n",
              "foundation_type           0.015119\n",
              "other_floor_type          0.015247\n",
              "land_surface_condition    0.024537\n",
              "roof_type                 0.037765\n",
              "dtype: float64"
            ]
          },
          "metadata": {},
          "execution_count": 146
        }
      ]
    },
    {
      "cell_type": "code",
      "source": [
        "# Create horizontal bar chart\n",
        "feat_imp.plot(kind = \"barh\")\n",
        "plt.xlabel(\"Gini Importance\")"
      ],
      "metadata": {
        "colab": {
          "base_uri": "https://localhost:8080/",
          "height": 296
        },
        "id": "e7rKmD3ZZldH",
        "outputId": "3daa2af5-4a4c-4dbb-fed1-689fadfee6fe"
      },
      "execution_count": 147,
      "outputs": [
        {
          "output_type": "execute_result",
          "data": {
            "text/plain": [
              "Text(0.5, 0, 'Gini Importance')"
            ]
          },
          "metadata": {},
          "execution_count": 147
        },
        {
          "output_type": "display_data",
          "data": {
            "text/plain": [
              "<Figure size 432x288 with 1 Axes>"
            ],
            "image/png": "[encoded data removed]"
          },
          "metadata": {
            "needs_background": "light"
          }
        }
      ]
    }
  ]
}
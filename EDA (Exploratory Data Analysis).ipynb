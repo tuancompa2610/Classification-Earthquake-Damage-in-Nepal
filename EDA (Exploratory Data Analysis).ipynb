# Drop leaky features
# Those features with "post" are likely to be leaky featyres since those features happen after the earthquake.
df.drop(columns = ["count_floors_post_eq", "height_ft_post_eq", "condition_post_eq"], inplace = True)
# Create correlation matrix
correlation = df.select_dtypes("number").drop(columns = "severe_damage").corr()
# Plot heatmap of `correlation`
sns.heatmap(correlation)

corr_count_floors_pre_eq = df["severe_damage"].corr(df["count_floors_pre_eq"])
corr_height_ft_pre_eq = df["severe_damage"].corr(df["height_ft_pre_eq"])
print(f"The corelation coefficient between count_floors_pre_eq and severe_damage: {corr_count_floors_pre_eq}")
print(f"The corelation coefficient between height_ft_pre_eq and severe_damage: {corr_height_ft_pre_eq}")
